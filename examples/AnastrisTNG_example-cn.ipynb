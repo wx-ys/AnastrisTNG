{
 "cells": [
  {
   "cell_type": "markdown",
   "metadata": {},
   "source": [
    "# AnastrisTNG 简单介绍"
   ]
  },
  {
   "cell_type": "code",
   "execution_count": 1,
   "metadata": {},
   "outputs": [],
   "source": [
    "from AnastrisTNG import TNGsimulation  #导入模块\n",
    "import numpy as np\n",
    "from AnastrisTNG import TNGtools"
   ]
  },
  {
   "cell_type": "code",
   "execution_count": 2,
   "metadata": {},
   "outputs": [],
   "source": [
    "import matplotlib.pyplot as plt"
   ]
  },
  {
   "cell_type": "code",
   "execution_count": 3,
   "metadata": {},
   "outputs": [],
   "source": [
    "run = 'TNG50'\n",
    "BasePath = '/home/dumin/IllustrisTNG/' + run + '-1/output/'         #模拟数据所在位置\n",
    "snap=99                                                             #需要分析的快照序号"
   ]
  },
  {
   "cell_type": "code",
   "execution_count": 4,
   "metadata": {},
   "outputs": [],
   "source": [
    "Snapshot=TNGsimulation.Snapshot(BasePath,snap)                     #初始化Snapshot"
   ]
  },
  {
   "cell_type": "code",
   "execution_count": 5,
   "metadata": {},
   "outputs": [
    {
     "data": {
      "text/plain": [
       "<Snapshot \"TNG50-1_snapshot99\" len=0>"
      ]
     },
     "execution_count": 5,
     "metadata": {},
     "output_type": "execute_result"
    }
   ],
   "source": [
    "Snapshot"
   ]
  },
  {
   "cell_type": "code",
   "execution_count": 6,
   "metadata": {},
   "outputs": [
    {
     "name": "stdout",
     "output_type": "stream",
     "text": [
      "<Snapshot \"TNG50-1_snapshot99\" len=0>\n"
     ]
    }
   ],
   "source": [
    "print(Snapshot)                  #也可以使用print 输出基本信息"
   ]
  },
  {
   "cell_type": "code",
   "execution_count": 7,
   "metadata": {},
   "outputs": [
    {
     "data": {
      "text/plain": [
       "{'a': 0.9999999999999998,\n",
       " 'h': 0.6774,\n",
       " 'omegaM0': 0.3089,\n",
       " 'omegaL0': 0.6911,\n",
       " 'omegaB0': 0.0486,\n",
       " 'sigma8': 0.8159,\n",
       " 'ns': 0.9667,\n",
       " 'boxsize': SimArray(1., '3.50e+04 a kpc h**-1'),\n",
       " 'Halos_total': 10247012,\n",
       " 'Subhalos_total': 5688113,\n",
       " 'filedir': '/home/dumin/IllustrisTNG/TNG50-1/output/',\n",
       " 'run': 'TNG50-1',\n",
       " 'Snapshot': 99,\n",
       " 'eps': SimArray(0.195, 'kpc h**-1'),\n",
       " 'Mdm': SimArray(3.1e-05, '1.00e+10 Msol h**-1'),\n",
       " 'baseunits': [Unit(\"kpc\"), Unit(\"km s**-1\"), Unit(\"Msol\")]}"
      ]
     },
     "execution_count": 7,
     "metadata": {},
     "output_type": "execute_result"
    }
   ],
   "source": [
    "Snapshot.properties               #Simdict，字典，保存所有关于该snapshort的信息"
   ]
  },
  {
   "cell_type": "markdown",
   "metadata": {},
   "source": [
    "a为尺度因子；h，omegaM0，omegaL0，omegaB0，sigma8，ns 为模拟所用的宇宙学参数；boxsize为模拟盒子的大小；Halos_total 为该snapshot中halo的总数；Subhalos_total 为subhalo的总数；filedir 为文件所在位置；run 为具体什么模拟； Snapshot 为snapshot序号；eps 为引力软化尺度；Mdm 为单个暗物质粒子质量；baseunits 当转化为基本物理单位后 采用的单位制。"
   ]
  },
  {
   "cell_type": "code",
   "execution_count": 8,
   "metadata": {},
   "outputs": [
    {
     "data": {
      "text/plain": [
       "{'h': 0.6774,\n",
       " 'omegaM0': 0.3089,\n",
       " 'omegaL0': 0.6911,\n",
       " 'omegaB0': 0.0486,\n",
       " 'sigma8': 0.8159,\n",
       " 'ns': 0.9667}"
      ]
     },
     "execution_count": 8,
     "metadata": {},
     "output_type": "execute_result"
    }
   ],
   "source": [
    "Snapshot.cosmology           #直接获取宇宙学参数"
   ]
  },
  {
   "cell_type": "code",
   "execution_count": 9,
   "metadata": {},
   "outputs": [
    {
     "data": {
      "text/plain": [
       "SimArray(1., '3.50e+04 a kpc h**-1')"
      ]
     },
     "execution_count": 9,
     "metadata": {},
     "output_type": "execute_result"
    }
   ],
   "source": [
    "Snapshot.boxsize              #获取boxsize"
   ]
  },
  {
   "cell_type": "code",
   "execution_count": 10,
   "metadata": {},
   "outputs": [
    {
     "name": "stdout",
     "output_type": "stream",
     "text": [
      "尺度因子: 0.9999999999999998\n",
      "宇宙时间: 1.38e+01 Gyr\n",
      "回顾时间: 6.13e-15 Gyr\n",
      "红移: 2.220446049250313e-16\n"
     ]
    }
   ],
   "source": [
    "print('尺度因子:',Snapshot.a)\n",
    "print('宇宙时间:',Snapshot.t)\n",
    "print('回顾时间:',Snapshot.tLB)\n",
    "print('红移:',Snapshot.z)             "
   ]
  },
  {
   "cell_type": "code",
   "execution_count": 11,
   "metadata": {},
   "outputs": [
    {
     "data": {
      "text/plain": [
       "Unit(\"5.48e+02 km**2 G**-1 Mpc**-2 s**-2\")"
      ]
     },
     "execution_count": 11,
     "metadata": {},
     "output_type": "execute_result"
    }
   ],
   "source": [
    "Snapshot.rho_crit       #当前时刻的宇宙学临界密度"
   ]
  },
  {
   "cell_type": "markdown",
   "metadata": {},
   "source": [
    "### 载入粒子"
   ]
  },
  {
   "cell_type": "code",
   "execution_count": 12,
   "metadata": {},
   "outputs": [
    {
     "data": {
      "text/plain": [
       "{'particle_field': 'dm,star,gas,bh',\n",
       " 'Basefields': ['Coordinates', 'Velocities', 'Masses', 'ParticleIDs'],\n",
       " 'star_fields': [],\n",
       " 'gas_fields': [],\n",
       " 'dm_fields': [],\n",
       " 'bh_fields': []}"
      ]
     },
     "execution_count": 12,
     "metadata": {},
     "output_type": "execute_result"
    }
   ],
   "source": [
    "Snapshot.load_particle_para       #字典，查看导入粒子的 设置，"
   ]
  },
  {
   "cell_type": "markdown",
   "metadata": {},
   "source": [
    "particle_field 为载入粒子类型，一共这四种类型：暗物质粒子，恒星粒子，气体粒子，黑洞粒子。默认四个都载入。\\\n",
    "Basefields 为基本属性，即所有类型粒子都需导入的属性。\\\n",
    "star_fields，gas_fields... 为特定类型粒子的特殊属性。\\\n",
    "关于 粒子属性 更详细介绍 查看； https://www.tng-project.org/data/docs/specifications/#sec1b"
   ]
  },
  {
   "cell_type": "code",
   "execution_count": 13,
   "metadata": {},
   "outputs": [],
   "source": [
    "Snapshot.load_particle_para['star_fields']=[\n",
    "    'GFM_StellarFormationTime','GFM_StellarPhotometrics','BirthPos']   #设置 额外导入恒星粒子 的GFM_StellarFormationTime\n",
    "Snapshot.load_particle_para['gas_fields']=['GFM_Metals','ElectronAbundance','InternalEnergy','Density'] #"
   ]
  },
  {
   "cell_type": "code",
   "execution_count": 14,
   "metadata": {},
   "outputs": [
    {
     "data": {
      "text/plain": [
       "{'particle_field': 'dm,star,gas,bh',\n",
       " 'Basefields': ['Coordinates', 'Velocities', 'Masses', 'ParticleIDs'],\n",
       " 'star_fields': ['GFM_StellarFormationTime',\n",
       "  'GFM_StellarPhotometrics',\n",
       "  'BirthPos'],\n",
       " 'gas_fields': ['GFM_Metals',\n",
       "  'ElectronAbundance',\n",
       "  'InternalEnergy',\n",
       "  'Density'],\n",
       " 'dm_fields': [],\n",
       " 'bh_fields': []}"
      ]
     },
     "execution_count": 14,
     "metadata": {},
     "output_type": "execute_result"
    }
   ],
   "source": [
    "Snapshot.load_particle_para          "
   ]
  },
  {
   "cell_type": "code",
   "execution_count": 15,
   "metadata": {},
   "outputs": [],
   "source": [
    "Snapshot.load_halo(400)   #导入该snapshot下id为400的halo\n",
    "# 使用Snapshot.load_subhalo() 导入subhalo，在未改变坐标前，可以多次载入粒子，改变坐标或计算引力后，载入粒子功能被锁定，不能再载入粒子"
   ]
  },
  {
   "cell_type": "code",
   "execution_count": 16,
   "metadata": {},
   "outputs": [
    {
     "data": {
      "text/plain": [
       "['y',\n",
       " 'HaloID',\n",
       " 'x',\n",
       " 'pos',\n",
       " 'vel',\n",
       " 'iord',\n",
       " 'BirthPos_x',\n",
       " 'z',\n",
       " 'BirthPos_y',\n",
       " 'aform',\n",
       " 'vy',\n",
       " 'mass',\n",
       " 'vx',\n",
       " 'BirthPos_z',\n",
       " 'SubhaloID',\n",
       " 'BirthPos',\n",
       " 'GFM_StellarPhotometrics',\n",
       " 'vz']"
      ]
     },
     "execution_count": 16,
     "metadata": {},
     "output_type": "execute_result"
    }
   ],
   "source": [
    "Snapshot.s.keys()"
   ]
  },
  {
   "cell_type": "code",
   "execution_count": 17,
   "metadata": {},
   "outputs": [],
   "source": [
    "Snapshot.load_subhalo(549516)"
   ]
  },
  {
   "cell_type": "code",
   "execution_count": 18,
   "metadata": {},
   "outputs": [
    {
     "data": {
      "text/plain": [
       "<SimSnap \"TNG50-1_snapshot99:Subhalo_549516::star\" len=691113>"
      ]
     },
     "execution_count": 18,
     "metadata": {},
     "output_type": "execute_result"
    }
   ],
   "source": [
    "Snapshot.subhalos[549516].PT.s"
   ]
  },
  {
   "cell_type": "code",
   "execution_count": 19,
   "metadata": {},
   "outputs": [
    {
     "ename": "TypeError",
     "evalue": "galaxy_evolution() missing 1 required positional argument: 'fields'",
     "output_type": "error",
     "traceback": [
      "\u001b[0;31m---------------------------------------------------------------------------\u001b[0m",
      "\u001b[0;31mTypeError\u001b[0m                                 Traceback (most recent call last)",
      "Cell \u001b[0;32mIn[19], line 1\u001b[0m\n\u001b[0;32m----> 1\u001b[0m \u001b[43mTNGsimulation\u001b[49m\u001b[38;5;241;43m.\u001b[39;49m\u001b[43mgalaxy_evolution\u001b[49m\u001b[43m(\u001b[49m\u001b[43mSnapshot\u001b[49m\u001b[38;5;241;43m.\u001b[39;49m\u001b[43mproperties\u001b[49m\u001b[43m[\u001b[49m\u001b[38;5;124;43m'\u001b[39;49m\u001b[38;5;124;43mfiledir\u001b[39;49m\u001b[38;5;124;43m'\u001b[39;49m\u001b[43m]\u001b[49m\u001b[43m,\u001b[49m\u001b[38;5;241;43m99\u001b[39;49m\u001b[43m,\u001b[49m\u001b[38;5;241;43m549516\u001b[39;49m\u001b[43m,\u001b[49m\u001b[43m)\u001b[49m\n",
      "\u001b[0;31mTypeError\u001b[0m: galaxy_evolution() missing 1 required positional argument: 'fields'"
     ]
    }
   ],
   "source": [
    "TNGsimulation.galaxy_evolution(Snapshot.properties['filedir'],99,549516,)"
   ]
  },
  {
   "cell_type": "code",
   "execution_count": 19,
   "metadata": {},
   "outputs": [],
   "source": [
    "Traceparticle=TNGtools.findtracer_MP(Snapshot.properties['filedir'],99,Snapshot.subhalos['549516'].PT.s['iord'],8)"
   ]
  },
  {
   "cell_type": "code",
   "execution_count": 34,
   "metadata": {},
   "outputs": [
    {
     "data": {
      "text/plain": [
       "dict_keys(['ParentID', 'TracerID'])"
      ]
     },
     "execution_count": 34,
     "metadata": {},
     "output_type": "execute_result"
    }
   ],
   "source": [
    "Traceparticle.keys()"
   ]
  },
  {
   "cell_type": "code",
   "execution_count": 36,
   "metadata": {},
   "outputs": [
    {
     "data": {
      "text/plain": [
       "0"
      ]
     },
     "execution_count": 36,
     "metadata": {},
     "output_type": "execute_result"
    }
   ],
   "source": [
    "len(Traceparticle['TracerID'])"
   ]
  },
  {
   "cell_type": "code",
   "execution_count": 29,
   "metadata": {},
   "outputs": [
    {
     "data": {
      "text/plain": [
       "['vz',\n",
       " 'iord',\n",
       " 'BirthPos',\n",
       " 'BirthPos_z',\n",
       " 'vx',\n",
       " 'BirthPos_x',\n",
       " 'SubhaloID',\n",
       " 'vy',\n",
       " 'y',\n",
       " 'vel',\n",
       " 'BirthPos_y',\n",
       " 'GFM_StellarPhotometrics',\n",
       " 'mass',\n",
       " 'HaloID',\n",
       " 'pos',\n",
       " 'aform',\n",
       " 'z',\n",
       " 'x']"
      ]
     },
     "execution_count": 29,
     "metadata": {},
     "output_type": "execute_result"
    }
   ],
   "source": [
    "Snapshot.s.keys()"
   ]
  },
  {
   "cell_type": "code",
   "execution_count": 28,
   "metadata": {},
   "outputs": [
    {
     "data": {
      "text/plain": [
       "{'MergerEvents': array([0., 0., 0., 0., 2., 0., 0., 0., 0., 1., 0., 0., 0., 0., 0., 0., 0.,\n",
       "        0., 0., 1., 0., 0., 0., 1., 0., 0., 0., 0., 0., 0., 0., 0., 0., 0.,\n",
       "        0., 0., 0., 0., 0., 0., 0., 0., 0., 0., 0., 1., 0., 0., 0., 0., 1.,\n",
       "        0., 0., 0., 0., 0., 0., 0., 0., 0., 0., 0., 0., 1., 0., 0., 0., 0.,\n",
       "        0., 0., 0., 0., 0., 0., 0., 0., 0., 0., 0., 0., 0., 0., 0., 0., 0.,\n",
       "        0., 0., 0., 0., 0., 0., 0., 0., 0., 0., 0., 0., 0., 0., 0.]),\n",
       " 'MassRatio': [0.059816267,\n",
       "  0.27163708,\n",
       "  0.056858767,\n",
       "  0.077828266,\n",
       "  0.057605054,\n",
       "  0.11141318,\n",
       "  0.26114193,\n",
       "  0.36686462],\n",
       " 'First-SubfindID': [417390,\n",
       "  349714,\n",
       "  322231,\n",
       "  220656,\n",
       "  148595,\n",
       "  74020,\n",
       "  90742,\n",
       "  90742],\n",
       " 'Next-SubfindID': [417413,\n",
       "  349716,\n",
       "  322241,\n",
       "  220657,\n",
       "  148622,\n",
       "  74025,\n",
       "  90743,\n",
       "  90744],\n",
       " 'First-SubhaloMassType': [SimArray([4.8493447e+00, 4.1487816e+01, 0.0000000e+00, 0.0000000e+00,\n",
       "            1.5131317e+00, 3.2421246e-03], dtype=float32, '1.00e+10 Msol h**-1'),\n",
       "  array([4.8493447e+00, 4.1487816e+01, 0.0000000e+00, 0.0000000e+00,\n",
       "         1.5131317e+00, 3.2421246e-03], dtype=float32),\n",
       "  SimArray([4.4861164e+00, 3.4188019e+01, 0.0000000e+00, 0.0000000e+00,\n",
       "            7.4818510e-01, 1.7045098e-03], dtype=float32, '1.00e+10 Msol h**-1'),\n",
       "  array([4.4861164e+00, 3.4188019e+01, 0.0000000e+00, 0.0000000e+00,\n",
       "         7.4818510e-01, 1.7045098e-03], dtype=float32),\n",
       "  SimArray([3.4945273e+00, 2.5105148e+01, 0.0000000e+00, 0.0000000e+00,\n",
       "            3.7912190e-01, 7.3068927e-04], dtype=float32, '1.00e+10 Msol h**-1'),\n",
       "  array([3.4945273e+00, 2.5105148e+01, 0.0000000e+00, 0.0000000e+00,\n",
       "         3.7912190e-01, 7.3068927e-04], dtype=float32),\n",
       "  SimArray([0.4386641 , 3.320063  , 0.        , 0.        , 0.02250022,\n",
       "            0.        ], dtype=float32, '1.00e+10 Msol h**-1'),\n",
       "  array([0.4386641 , 3.320063  , 0.        , 0.        , 0.02250022,\n",
       "         0.        ], dtype=float32),\n",
       "  SimArray([0.24553017, 1.7932447 , 0.        , 0.        , 0.00802985,\n",
       "            0.        ], dtype=float32, '1.00e+10 Msol h**-1'),\n",
       "  array([0.24553017, 1.7932447 , 0.        , 0.        , 0.00802985,\n",
       "         0.        ], dtype=float32),\n",
       "  SimArray([2.9870601e-02, 2.5148827e-01, 0.0000000e+00, 0.0000000e+00,\n",
       "            1.6594683e-04, 0.0000000e+00], dtype=float32, '1.00e+10 Msol h**-1'),\n",
       "  array([2.9870601e-02, 2.5148827e-01, 0.0000000e+00, 0.0000000e+00,\n",
       "         1.6594683e-04, 0.0000000e+00], dtype=float32),\n",
       "  SimArray([2.2327157e-03, 4.3215901e-02, 0.0000000e+00, 0.0000000e+00,\n",
       "            2.9058332e-05, 0.0000000e+00], dtype=float32, '1.00e+10 Msol h**-1'),\n",
       "  array([2.2327157e-03, 4.3215901e-02, 0.0000000e+00, 0.0000000e+00,\n",
       "         2.9058332e-05, 0.0000000e+00], dtype=float32),\n",
       "  SimArray([2.2327157e-03, 4.3215901e-02, 0.0000000e+00, 0.0000000e+00,\n",
       "            2.9058332e-05, 0.0000000e+00], dtype=float32, '1.00e+10 Msol h**-1'),\n",
       "  array([2.2327157e-03, 4.3215901e-02, 0.0000000e+00, 0.0000000e+00,\n",
       "         2.9058332e-05, 0.0000000e+00], dtype=float32)],\n",
       " 'Next-SubhaloMassType': [array([0.        , 0.00255115, 0.        , 0.        , 0.00227625,\n",
       "         0.        ], dtype=float32),\n",
       "  array([0.06126936, 0.11673825, 0.        , 0.        , 0.08400464,\n",
       "         0.        ], dtype=float32),\n",
       "  array([0.        , 0.0086063 , 0.        , 0.        , 0.00482835,\n",
       "         0.        ], dtype=float32),\n",
       "  array([0.00204   , 0.01601386, 0.        , 0.        , 0.00085461,\n",
       "         0.        ], dtype=float32),\n",
       "  array([0.0000000e+00, 1.9978902e-03, 0.0000000e+00, 0.0000000e+00,\n",
       "         3.7293717e-05, 0.0000000e+00], dtype=float32),\n",
       "  array([0.        , 0.00070695, 0.        , 0.        , 0.        ,\n",
       "         0.        ], dtype=float32),\n",
       "  array([5.5765756e-04, 4.8564100e-03, 0.0000000e+00, 0.0000000e+00,\n",
       "         6.1944270e-06, 0.0000000e+00], dtype=float32),\n",
       "  array([5.1091865e-06, 7.6841930e-04, 0.0000000e+00, 0.0000000e+00,\n",
       "         1.0660474e-05, 0.0000000e+00], dtype=float32)],\n",
       " 'First-SnapNum': [63, 50, 45, 23, 19, 9, 4, 4],\n",
       " 'Next-SnapNum': [63, 50, 45, 23, 19, 9, 4, 4],\n",
       " 'numMergers': 8}"
      ]
     },
     "execution_count": 28,
     "metadata": {},
     "output_type": "execute_result"
    }
   ],
   "source": [
    "TNGsimulation.merger_history(Snapshot.properties['filedir'],99,549516,minMassRatio=0.05)"
   ]
  },
  {
   "cell_type": "code",
   "execution_count": 24,
   "metadata": {},
   "outputs": [
    {
     "data": {
      "text/plain": [
       "{'a': 0.9999999999999998,\n",
       " 'h': 0.6774,\n",
       " 'omegaM0': 0.3089,\n",
       " 'omegaL0': 0.6911,\n",
       " 'omegaB0': 0.0486,\n",
       " 'sigma8': 0.8159,\n",
       " 'ns': 0.9667,\n",
       " 'boxsize': SimArray(1., '3.50e+04 a kpc h**-1'),\n",
       " 'Halos_total': 10247012,\n",
       " 'Subhalos_total': 5688113,\n",
       " 'filedir': '/home/dumin/IllustrisTNG/TNG50-1/output/',\n",
       " 'run': 'TNG50-1',\n",
       " 'Snapshot': 99,\n",
       " 'eps': SimArray(0.195, 'kpc h**-1'),\n",
       " 'Mdm': SimArray(3.1e-05, '1.00e+10 Msol h**-1'),\n",
       " 'baseunits': [Unit(\"kpc\"), Unit(\"km s**-1\"), Unit(\"Msol\")]}"
      ]
     },
     "execution_count": 24,
     "metadata": {},
     "output_type": "execute_result"
    }
   ],
   "source": [
    "Snapshot.properties"
   ]
  },
  {
   "cell_type": "code",
   "execution_count": 17,
   "metadata": {},
   "outputs": [
    {
     "data": {
      "text/plain": [
       "['z',\n",
       " 'vx',\n",
       " 'mass',\n",
       " 'rho',\n",
       " 'x',\n",
       " 'HaloID',\n",
       " 'GFM_Metals',\n",
       " 'vel',\n",
       " 'y',\n",
       " 'pos',\n",
       " 'ElectronAbundance',\n",
       " 'SubhaloID',\n",
       " 'vz',\n",
       " 'u',\n",
       " 'vy',\n",
       " 'iord']"
      ]
     },
     "execution_count": 17,
     "metadata": {},
     "output_type": "execute_result"
    }
   ],
   "source": [
    "Snapshot.g.keys()"
   ]
  },
  {
   "cell_type": "code",
   "execution_count": 18,
   "metadata": {},
   "outputs": [
    {
     "data": {
      "text/plain": [
       "SimArray([-1, -1, -1, ..., -1, -1, -1], dtype=int32)"
      ]
     },
     "execution_count": 18,
     "metadata": {},
     "output_type": "execute_result"
    }
   ],
   "source": [
    "Snapshot['SubhaloID']        #粒子所属的SubhaloID，没有激活subhalo"
   ]
  },
  {
   "cell_type": "code",
   "execution_count": 19,
   "metadata": {},
   "outputs": [
    {
     "data": {
      "text/plain": [
       "SimArray([400, 400, 400, ..., 400, 400, 400], dtype=int32)"
      ]
     },
     "execution_count": 19,
     "metadata": {},
     "output_type": "execute_result"
    }
   ],
   "source": [
    "Snapshot['HaloID']        #HaloID 已有"
   ]
  },
  {
   "cell_type": "code",
   "execution_count": 20,
   "metadata": {},
   "outputs": [],
   "source": [
    "Snapshot.load_GC()    #导入group cata"
   ]
  },
  {
   "cell_type": "code",
   "execution_count": 20,
   "metadata": {},
   "outputs": [
    {
     "data": {
      "text/plain": [
       "array([400])"
      ]
     },
     "execution_count": 20,
     "metadata": {},
     "output_type": "execute_result"
    }
   ],
   "source": [
    "Snapshot.GC_loaded_Halo  # 该halo 已导入group catalo"
   ]
  },
  {
   "cell_type": "code",
   "execution_count": 21,
   "metadata": {},
   "outputs": [
    {
     "data": {
      "text/plain": [
       "SimArray([ 6260.91732938, 24152.90859663, 18309.46831678], 'a kpc h**-1')"
      ]
     },
     "execution_count": 21,
     "metadata": {},
     "output_type": "execute_result"
    }
   ],
   "source": [
    "Snapshot.center(mode='ssc')   # 中心坐标  默认 方法使用 shrink sphere center  "
   ]
  },
  {
   "cell_type": "code",
   "execution_count": 22,
   "metadata": {},
   "outputs": [
    {
     "data": {
      "text/plain": [
       "SimArray([ 6260.50863816, 24153.73984727, 18311.79302046], 'a kpc h**-1')"
      ]
     },
     "execution_count": 22,
     "metadata": {},
     "output_type": "execute_result"
    }
   ],
   "source": [
    "Snapshot.center(mode='com')  #质心"
   ]
  },
  {
   "cell_type": "code",
   "execution_count": 23,
   "metadata": {},
   "outputs": [
    {
     "data": {
      "text/plain": [
       "SimArray([ 6260.51 , 24153.738, 18311.791], dtype=float32, 'a kpc h**-1')"
      ]
     },
     "execution_count": 23,
     "metadata": {},
     "output_type": "execute_result"
    }
   ],
   "source": [
    "Snapshot.halos[400].GC['GroupCM']   # group catalog 给的质心坐标"
   ]
  },
  {
   "cell_type": "code",
   "execution_count": 24,
   "metadata": {},
   "outputs": [
    {
     "data": {
      "text/plain": [
       "SimArray([ 6260.937, 24152.902, 18309.434], dtype=float32, 'a kpc h**-1')"
      ]
     },
     "execution_count": 24,
     "metadata": {},
     "output_type": "execute_result"
    }
   ],
   "source": [
    "Snapshot.halos[400].GC['GroupPos']   # group catalog 给的 引力势最低点"
   ]
  },
  {
   "cell_type": "code",
   "execution_count": 25,
   "metadata": {},
   "outputs": [
    {
     "data": {
      "text/plain": [
       "array([590792, 590793, 590794, 590795, 590796, 590797, 590798, 590799,\n",
       "       590800, 590801, 590802, 590803, 590804, 590805, 590806, 590807,\n",
       "       590808, 590809, 590810, 590811, 590812, 590813, 590814, 590815,\n",
       "       590816, 590817, 590818, 590819, 590820, 590821, 590822, 590823,\n",
       "       590824, 590825, 590826, 590827, 590828, 590829, 590830, 590831,\n",
       "       590832, 590833, 590834, 590835, 590836, 590837, 590838, 590839,\n",
       "       590840, 590841, 590842, 590843, 590844, 590845, 590846, 590847,\n",
       "       590848, 590849, 590850, 590851, 590852, 590853, 590854, 590855,\n",
       "       590856, 590857, 590858, 590859, 590860, 590861, 590862, 590863,\n",
       "       590864, 590865, 590866, 590867, 590868, 590869, 590870, 590871,\n",
       "       590872, 590873, 590874, 590875, 590876, 590877, 590878, 590879,\n",
       "       590880, 590881, 590882, 590883, 590884, 590885, 590886, 590887,\n",
       "       590888, 590889, 590890, 590891, 590892, 590893, 590894, 590895,\n",
       "       590896, 590897, 590898, 590899, 590900, 590901, 590902, 590903,\n",
       "       590904, 590905, 590906, 590907, 590908, 590909, 590910, 590911,\n",
       "       590912, 590913, 590914, 590915, 590916, 590917, 590918, 590919,\n",
       "       590920, 590921, 590922, 590923, 590924, 590925])"
      ]
     },
     "execution_count": 25,
     "metadata": {},
     "output_type": "execute_result"
    }
   ],
   "source": [
    "Snapshot.PT_loaded_Subhalo   #已导入粒子的subhalo  ，可以直接唤醒，并给粒子分配subhaloID\n",
    "# Snapshot.subhalos[Snapshot.PT_loaded_Subhalo]   此方法为所有已经载入粒子的Subhalo匹配粒子  10^6 ~ 20s \n",
    "# 该halo中的第一个编号subhalo 即为中心星系"
   ]
  },
  {
   "cell_type": "code",
   "execution_count": 26,
   "metadata": {},
   "outputs": [
    {
     "data": {
      "text/plain": [
       "<Subhalo \"TNG50-1_snapshot99\" SubhaloID=590792>"
      ]
     },
     "execution_count": 26,
     "metadata": {},
     "output_type": "execute_result"
    }
   ],
   "source": [
    "Snapshot.subhalos[590792]   #激活"
   ]
  },
  {
   "cell_type": "code",
   "execution_count": 30,
   "metadata": {},
   "outputs": [
    {
     "data": {
      "text/plain": [
       "{'MergerEvents': array([0., 0., 0., 0., 0., 0., 0., 0., 0., 0., 0., 0., 0., 0., 0., 0., 0.,\n",
       "        0., 0., 0., 0., 0., 0., 0., 0., 0., 0., 0., 0., 0., 1., 0., 0., 0.,\n",
       "        0., 0., 0., 0., 0., 0., 0., 0., 0., 0., 0., 0., 0., 0., 0., 0., 0.,\n",
       "        0., 0., 0., 0., 0., 0., 0., 0., 0., 0., 0., 0., 0., 0., 0., 0., 0.,\n",
       "        0., 0., 0., 0., 0., 0., 0., 0., 0., 0., 0., 0., 0., 0., 0., 0., 0.,\n",
       "        0., 0., 0., 0., 0., 0., 0., 0., 0., 0., 0., 0., 0., 0., 0.]),\n",
       " 'MassRatio': [1.9488572],\n",
       " 'First-SubfindID': [209266],\n",
       " 'Next-SubfindID': [209263],\n",
       " 'First-SubhaloMassType': [array([0.01058924, 0.03795991, 0.        , 0.        , 0.01200393,\n",
       "         0.        ], dtype=float32)],\n",
       " 'Next-SubhaloMassType': [array([2.0311556e+00, 1.4347003e+01, 0.0000000e+00, 0.0000000e+00,\n",
       "         1.1977242e-01, 1.6775182e-04], dtype=float32)],\n",
       " 'First-SnapNum': [30],\n",
       " 'Next-SnapNum': [30],\n",
       " 'numMergers': 1}"
      ]
     },
     "execution_count": 30,
     "metadata": {},
     "output_type": "execute_result"
    }
   ],
   "source": [
    "TNGsimulation.Merger_History(Snapshot.properties['filedir'],Snapshot.snapshot,590792,\n",
    "                             minMassRatio=0.25)"
   ]
  },
  {
   "cell_type": "code",
   "execution_count": 27,
   "metadata": {},
   "outputs": [],
   "source": [
    "Snapshot.subhalos[590792].face_on()   # 选择中心星系作为face_on  #计算0.1Rvir内的粒子"
   ]
  },
  {
   "cell_type": "code",
   "execution_count": 28,
   "metadata": {},
   "outputs": [
    {
     "data": {
      "text/plain": [
       "SimArray([-6.88306820e-05, -2.84561364e-04, -1.72166393e-04], 'a kpc h**-1')"
      ]
     },
     "execution_count": 28,
     "metadata": {},
     "output_type": "execute_result"
    }
   ],
   "source": [
    "Snapshot.subhalos[590792].center()    #该星系坐标已移动到0，0，0"
   ]
  },
  {
   "cell_type": "code",
   "execution_count": 29,
   "metadata": {},
   "outputs": [
    {
     "data": {
      "text/plain": [
       "SimArray([ 0.02802341, -0.00034505,  0.0064916 ], 'km a**1/2 s**-1')"
      ]
     },
     "execution_count": 29,
     "metadata": {},
     "output_type": "execute_result"
    }
   ],
   "source": [
    "Snapshot.subhalos[590792].vel_center()    #该星系中心速度坐标也已移到中心"
   ]
  },
  {
   "cell_type": "code",
   "execution_count": 30,
   "metadata": {},
   "outputs": [
    {
     "data": {
      "text/plain": [
       "<SimSnap \"TNG50-1_snapshot99:Subhalo_590792\" len=1946830>"
      ]
     },
     "execution_count": 30,
     "metadata": {},
     "output_type": "execute_result"
    }
   ],
   "source": [
    "Snapshot.subhalos[590792].PT       #粒子 ParticleType "
   ]
  },
  {
   "cell_type": "code",
   "execution_count": 31,
   "metadata": {},
   "outputs": [
    {
     "data": {
      "text/plain": [
       "<SimSnap \"TNG50-1_snapshot99:Subhalo_590792::star\" len=473395>"
      ]
     },
     "execution_count": 31,
     "metadata": {},
     "output_type": "execute_result"
    }
   ],
   "source": [
    "Snapshot.subhalos[590792].PT.s  #.s恒星 ,.g气体，.bh黑洞，.dm暗物质"
   ]
  },
  {
   "cell_type": "code",
   "execution_count": 32,
   "metadata": {},
   "outputs": [
    {
     "data": {
      "text/plain": [
       "<SimSnap \"TNG50-1_snapshot99::dm\" len=1094154>"
      ]
     },
     "execution_count": 32,
     "metadata": {},
     "output_type": "execute_result"
    }
   ],
   "source": [
    "Snapshot.dm"
   ]
  },
  {
   "cell_type": "code",
   "execution_count": 33,
   "metadata": {},
   "outputs": [
    {
     "name": "stdout",
     "output_type": "stream",
     "text": [
      "There is no phi in the keyword\n",
      "Calculating gravity and it will take tens of seconds\n",
      "Calculate by using Octree\n"
     ]
    },
    {
     "data": {
      "text/plain": [
       "SimArray([-166104.91245962, -166171.57893112, -164889.33108655, ...,\n",
       "           -19375.36347248,  -15958.76814695, -165327.28851614], 'km**2 s**-2')"
      ]
     },
     "execution_count": 33,
     "metadata": {},
     "output_type": "execute_result"
    }
   ],
   "source": [
    "Snapshot.subhalos[590792].PT['phi']         \n",
    "#查看引力势，需要计算 约1min，为所有该Snapshot已载入的粒子进行计算，只有唤起时才计算，一些用到引力势的方法也会自动计算，如使用引力势最低点计算中心坐标"
   ]
  },
  {
   "cell_type": "code",
   "execution_count": 34,
   "metadata": {},
   "outputs": [
    {
     "name": "stdout",
     "output_type": "stream",
     "text": [
      "There is no acc in the keyword\n",
      "Calculate by using Octree\n"
     ]
    },
    {
     "data": {
      "text/plain": [
       "SimArray([[ 7338.83777905, -9064.64407156, -2621.98879627],\n",
       "          [-9310.94555052, 10422.10179974, -4757.23738322],\n",
       "          [10896.20187405,  4715.88113335, -7660.25504041],\n",
       "          ...,\n",
       "          [   66.02853848,   107.71834565,    62.93580502],\n",
       "          [  -31.98569913,    12.04826684,    88.49426358],\n",
       "          [-2221.0867234 , -1023.13358432,  -225.489445  ]], 'km s**-1 Gyr**-1')"
      ]
     },
     "execution_count": 34,
     "metadata": {},
     "output_type": "execute_result"
    }
   ],
   "source": [
    "Snapshot.subhalos[590792].PT['acc']         #查看引力加速度，为所有该Snapshot已载入的粒子进行计算"
   ]
  },
  {
   "cell_type": "code",
   "execution_count": 35,
   "metadata": {},
   "outputs": [
    {
     "data": {
      "text/plain": [
       "SimArray([-0.00962669, -0.00353289, -0.00416665], 'a kpc h**-1')"
      ]
     },
     "execution_count": 35,
     "metadata": {},
     "output_type": "execute_result"
    }
   ],
   "source": [
    "Snapshot.subhalos[590792].center(mode='pot')     #使用引力势最低点，查看中心坐标，若无phi，该方法会自动计算导入phi"
   ]
  },
  {
   "cell_type": "code",
   "execution_count": 36,
   "metadata": {},
   "outputs": [],
   "source": [
    "Snapshot.physical_units()               #将单位都转化为物理单位"
   ]
  },
  {
   "cell_type": "code",
   "execution_count": 37,
   "metadata": {},
   "outputs": [
    {
     "data": {
      "text/plain": [
       "SimArray([[-1.41732380e-01,  8.42482634e-02,  6.39733659e-03],\n",
       "          [ 7.56151643e-02, -9.80668965e-02,  2.17989638e-02],\n",
       "          [-2.87344785e-01, -7.64793694e-02,  2.92805144e-02],\n",
       "          ...,\n",
       "          [-6.09970048e+01, -9.18271157e+01, -4.71812972e+01],\n",
       "          [ 5.60181339e+01, -1.08957335e+01, -1.39842455e+02],\n",
       "          [-1.41226984e-04, -1.04148544e-03, -1.73486458e-04]], 'kpc')"
      ]
     },
     "execution_count": 37,
     "metadata": {},
     "output_type": "execute_result"
    }
   ],
   "source": [
    "Snapshot.subhalos[590792].PT['pos']"
   ]
  },
  {
   "cell_type": "code",
   "execution_count": 38,
   "metadata": {},
   "outputs": [
    {
     "data": {
      "text/plain": [
       "SimArray([-166104.91245962, -166171.57893112, -164889.33108655, ...,\n",
       "           -19375.36347248,  -15958.76814695, -165327.28851614], 'km**2 s**-2')"
      ]
     },
     "execution_count": 38,
     "metadata": {},
     "output_type": "execute_result"
    }
   ],
   "source": [
    "Snapshot.subhalos[590792].PT['phi']"
   ]
  },
  {
   "cell_type": "code",
   "execution_count": 39,
   "metadata": {},
   "outputs": [],
   "source": [
    "Snapshot.subhalos[590792].face_on()       #进行face_on，若存在acc或phi，也同步转换，\n",
    "# 同时设置该星系 R200~R178,之间的粒子引力势的平均值作为0点 ，中心acc为0"
   ]
  },
  {
   "cell_type": "code",
   "execution_count": 40,
   "metadata": {},
   "outputs": [
    {
     "data": {
      "text/plain": [
       "SimArray([-151954.06057601, -152020.72704751, -150738.47920295, ...,\n",
       "            -5224.51158887,   -1807.91626334, -151176.43663254], 'km**2 s**-2')"
      ]
     },
     "execution_count": 40,
     "metadata": {},
     "output_type": "execute_result"
    }
   ],
   "source": [
    "Snapshot.subhalos[590792].PT['phi']"
   ]
  },
  {
   "cell_type": "code",
   "execution_count": 41,
   "metadata": {},
   "outputs": [
    {
     "data": {
      "text/plain": [
       "SimArray([ 591.59867354,  288.88472652,  199.04057814, ..., 7991.88588135,\n",
       "          1591.8343848 ,    9.33726073], 'km**2 s**-2')"
      ]
     },
     "execution_count": 41,
     "metadata": {},
     "output_type": "execute_result"
    }
   ],
   "source": [
    "Snapshot.subhalos[590792].PT['ke']        #Specific kinetic energy"
   ]
  },
  {
   "cell_type": "code",
   "execution_count": 42,
   "metadata": {},
   "outputs": [],
   "source": [
    "## Snapshot.shift(pos,vel,phi)   也可以此方法调整位置，速度，引力势，坐标"
   ]
  },
  {
   "cell_type": "code",
   "execution_count": 43,
   "metadata": {},
   "outputs": [
    {
     "data": {
      "text/plain": [
       "SimArray(177.81262824, 'kpc')"
      ]
     },
     "execution_count": 43,
     "metadata": {},
     "output_type": "execute_result"
    }
   ],
   "source": [
    "Snapshot.subhalos[590792].R_vir()   #R178 位力半径 ，178倍当前时刻 临界密度"
   ]
  },
  {
   "cell_type": "code",
   "execution_count": 44,
   "metadata": {},
   "outputs": [
    {
     "data": {
      "text/plain": [
       "SimArray([  66574.58734749,   66122.53720072,   57047.51485598, ...,\n",
       "          4417925.31382544, 7104209.75795098, 5496673.05653385], 'K')"
      ]
     },
     "execution_count": 44,
     "metadata": {},
     "output_type": "execute_result"
    }
   ],
   "source": [
    "Snapshot.g['temp']            #气体温度，需要载入气体 ElectronAbundance，InternalEnergy。最好还需要GFM_Metals 估计H质量比"
   ]
  },
  {
   "cell_type": "code",
   "execution_count": 45,
   "metadata": {},
   "outputs": [],
   "source": [
    "Snapshot.subhalos[590792].face_on(mode='pot',alignwith='baryon') #alignwith 使用什么类型粒子计算角动量进行face-on。默认值为'all'所有"
   ]
  },
  {
   "cell_type": "code",
   "execution_count": 46,
   "metadata": {},
   "outputs": [],
   "source": [
    "pr=TNGsimulation.profile(Snapshot.subhalos[590792].PT,ndim=2,nbins=200,rmin=0.5,rmax=50)    #分析径向分布\n",
    "#ndim =2 为二维   #这里展示一些功能，其它自行探索"
   ]
  },
  {
   "cell_type": "code",
   "execution_count": 47,
   "metadata": {},
   "outputs": [
    {
     "data": {
      "text/plain": [
       "Text(0, 0.5, '$\\\\phi\\\\ [km^2/s^2]$')"
      ]
     },
     "execution_count": 47,
     "metadata": {},
     "output_type": "execute_result"
    },
    {
     "data": {
      "image/png": "[encoded data removed]",
      "text/plain": [
       "<Figure size 640x480 with 1 Axes>"
      ]
     },
     "metadata": {},
     "output_type": "display_data"
    }
   ],
   "source": [
    "plt.plot(pr['rbins'],pr['phi'])              #引力势分布\n",
    "plt.xlabel('R [kpc]')\n",
    "plt.ylabel('$\\phi\\ [km^2/s^2]$')"
   ]
  },
  {
   "cell_type": "code",
   "execution_count": 48,
   "metadata": {},
   "outputs": [
    {
     "data": {
      "text/plain": [
       "Text(0, 0.5, '$V_c$ [km/s]')"
      ]
     },
     "execution_count": 48,
     "metadata": {},
     "output_type": "execute_result"
    },
    {
     "data": {
      "image/png": "[encoded data removed]",
      "text/plain": [
       "<Figure size 640x480 with 1 Axes>"
      ]
     },
     "metadata": {},
     "output_type": "display_data"
    }
   ],
   "source": [
    "plt.plot(pr['rbins'],pr['v_circ-gas'],label='Gas')        # 关键字 加 '-gas' '-star' '-dm' 即对特定粒子的profile\n",
    "plt.plot(pr['rbins'],pr['v_circ-star'],label='Star')        #V_circ， 计算盘面上环上八个点的平均加速度得到\n",
    "plt.plot(pr['rbins'],pr['v_circ-dm'],label='DM')\n",
    "plt.plot(pr['rbins'],pr['v_circ'],label='Total')\n",
    "plt.legend()\n",
    "plt.xlabel('R [kpc]')\n",
    "plt.ylabel('$V_c$ [km/s]')"
   ]
  },
  {
   "cell_type": "code",
   "execution_count": 49,
   "metadata": {},
   "outputs": [
    {
     "name": "stderr",
     "output_type": "stream",
     "text": [
      "/home/lushuai/.local/lib/python3.8/site-packages/pynbody/array.py:353: RuntimeWarning: invalid value encountered in divide\n",
      "  return np.ndarray.__truediv__(self, rhs)\n"
     ]
    },
    {
     "data": {
      "text/plain": [
       "Text(0, 0.5, 'Q')"
      ]
     },
     "execution_count": 49,
     "metadata": {},
     "output_type": "execute_result"
    },
    {
     "data": {
      "image/png": "[encoded data removed]",
      "text/plain": [
       "<Figure size 640x480 with 1 Axes>"
      ]
     },
     "metadata": {},
     "output_type": "display_data"
    }
   ],
   "source": [
    "plt.plot(pr['rbins'],pr['Qstar'],label='Toomre-Q')\n",
    "plt.plot(pr['rbins'],pr['Q2ws'],label='Q2ws')\n",
    "plt.plot(pr['rbins'],pr['Q2thin'],label='Qthindisk')\n",
    "plt.plot(pr['rbins'],pr['Q2thick'],label='Qthickdisk')\n",
    "plt.legend()\n",
    "plt.xlim(0,10)\n",
    "plt.ylim(0,8)\n",
    "plt.xlabel('R [kpc]')\n",
    "plt.ylabel('Q')"
   ]
  },
  {
   "cell_type": "code",
   "execution_count": 50,
   "metadata": {},
   "outputs": [
    {
     "data": {
      "text/plain": [
       "Text(0, 0.5, '$H_\\\\mathrm{\\\\alpha}\\\\ [\\\\mathrm{erg\\\\ cm^{-3}\\\\ s^{-1}\\\\ sr^{-1}}]$')"
      ]
     },
     "execution_count": 50,
     "metadata": {},
     "output_type": "execute_result"
    },
    {
     "data": {
      "image/png": "[encoded data removed]",
      "text/plain": [
       "<Figure size 640x480 with 1 Axes>"
      ]
     },
     "metadata": {},
     "output_type": "display_data"
    }
   ],
   "source": [
    "plt.plot(pr['rbins-gas'],pr['Halpha-gas'])\n",
    "plt.yscale('log')\n",
    "plt.xlabel('r [kpc]')\n",
    "plt.ylabel(r'$H_\\mathrm{\\alpha}\\ [\\mathrm{erg\\ cm^{-3}\\ s^{-1}\\ sr^{-1}}]$')"
   ]
  },
  {
   "cell_type": "code",
   "execution_count": 51,
   "metadata": {},
   "outputs": [
    {
     "data": {
      "text/plain": [
       "Text(0, 0.5, 'Gas temp [K]')"
      ]
     },
     "execution_count": 51,
     "metadata": {},
     "output_type": "execute_result"
    },
    {
     "data": {
      "image/png": "[encoded data removed]",
      "text/plain": [
       "<Figure size 640x480 with 1 Axes>"
      ]
     },
     "metadata": {},
     "output_type": "display_data"
    }
   ],
   "source": [
    "plt.plot(pr['rbins-gas'],pr['temp-gas'])\n",
    "plt.yscale('log')\n",
    "plt.xlabel('R [kpc]')\n",
    "plt.ylabel('Gas temp [K]')"
   ]
  },
  {
   "cell_type": "code",
   "execution_count": 52,
   "metadata": {},
   "outputs": [
    {
     "data": {
      "text/plain": [
       "Text(0, 0.5, 'Velocity [km/s]')"
      ]
     },
     "execution_count": 52,
     "metadata": {},
     "output_type": "execute_result"
    },
    {
     "data": {
      "image/png": "[encoded data removed]",
      "text/plain": [
       "<Figure size 640x480 with 1 Axes>"
      ]
     },
     "metadata": {},
     "output_type": "display_data"
    }
   ],
   "source": [
    "plt.plot(pr['rbins-gas'],pr['cs-gas'],label='Sound speed')\n",
    "plt.plot(pr['rbins-gas'],pr['vr_disp-gas'],label='Radial velocity dispertion')\n",
    "plt.legend()\n",
    "plt.xlabel('r [kpc]')\n",
    "plt.ylabel('Velocity [km/s]')"
   ]
  },
  {
   "cell_type": "code",
   "execution_count": 53,
   "metadata": {},
   "outputs": [
    {
     "data": {
      "text/plain": [
       "array([590792, 590793, 590794, 590795, 590796, 590797, 590798, 590799,\n",
       "       590800, 590801, 590802, 590803, 590804, 590805, 590806, 590807,\n",
       "       590808, 590809, 590810, 590811, 590812, 590813, 590814, 590815,\n",
       "       590816, 590817, 590818, 590819, 590820, 590821, 590822, 590823,\n",
       "       590824, 590825, 590826, 590827, 590828, 590829, 590830, 590831,\n",
       "       590832, 590833, 590834, 590835, 590836, 590837, 590838, 590839,\n",
       "       590840, 590841, 590842, 590843, 590844, 590845, 590846, 590847,\n",
       "       590848, 590849, 590850, 590851, 590852, 590853, 590854, 590855,\n",
       "       590856, 590857, 590858, 590859, 590860, 590861, 590862, 590863,\n",
       "       590864, 590865, 590866, 590867, 590868, 590869, 590870, 590871,\n",
       "       590872, 590873, 590874, 590875, 590876, 590877, 590878, 590879,\n",
       "       590880, 590881, 590882, 590883, 590884, 590885, 590886, 590887,\n",
       "       590888, 590889, 590890, 590891, 590892, 590893, 590894, 590895,\n",
       "       590896, 590897, 590898, 590899, 590900, 590901, 590902, 590903,\n",
       "       590904, 590905, 590906, 590907, 590908, 590909, 590910, 590911,\n",
       "       590912, 590913, 590914, 590915, 590916, 590917, 590918, 590919,\n",
       "       590920, 590921, 590922, 590923, 590924, 590925])"
      ]
     },
     "execution_count": 53,
     "metadata": {},
     "output_type": "execute_result"
    }
   ],
   "source": [
    "Snapshot.PT_loaded_Subhalo"
   ]
  },
  {
   "cell_type": "code",
   "execution_count": 54,
   "metadata": {},
   "outputs": [
    {
     "name": "stdout",
     "output_type": "stream",
     "text": [
      "[590792 590792 590792 ...     -1     -1 590792]\n"
     ]
    }
   ],
   "source": [
    "print(Snapshot['SubhaloID'])      #已匹配SubhaloID，此时若为-1 则表明不在任何Subhalo中或未激活\n",
    "# Snapshot.subhalos[Snapshot.PT_loaded_Subhalo]   使用此语句则全部激活"
   ]
  },
  {
   "cell_type": "code",
   "execution_count": 55,
   "metadata": {},
   "outputs": [
    {
     "data": {
      "text/plain": [
       "'locked'"
      ]
     },
     "execution_count": 55,
     "metadata": {},
     "output_type": "execute_result"
    }
   ],
   "source": [
    "Snapshot.status_loadPT       #这里查看能否继续load粒子，若已经改变了已载入粒子的坐标等，则不能再load粒子"
   ]
  },
  {
   "cell_type": "code",
   "execution_count": 56,
   "metadata": {},
   "outputs": [
    {
     "data": {
      "text/plain": [
       "SimArray([188.17655071,  27.75134838,   3.93565106], 'kpc')"
      ]
     },
     "execution_count": 56,
     "metadata": {},
     "output_type": "execute_result"
    }
   ],
   "source": [
    "Snapshot.subhalos[590793].center()  # 该星系的相对中心星系的坐标"
   ]
  },
  {
   "cell_type": "code",
   "execution_count": 57,
   "metadata": {},
   "outputs": [
    {
     "data": {
      "text/plain": [
       "SimArray([-72.11433926,  77.74040754, -37.71859992], 'km s**-1')"
      ]
     },
     "execution_count": 57,
     "metadata": {},
     "output_type": "execute_result"
    }
   ],
   "source": [
    "Snapshot.subhalos[590793].vel_center()   #相对中心星系的速度"
   ]
  },
  {
   "cell_type": "markdown",
   "metadata": {},
   "source": [
    "## 分析group catalog"
   ]
  },
  {
   "cell_type": "code",
   "execution_count": 58,
   "metadata": {},
   "outputs": [
    {
     "data": {
      "text/plain": [
       "'locked'"
      ]
     },
     "execution_count": 58,
     "metadata": {},
     "output_type": "execute_result"
    }
   ],
   "source": [
    "Snapshot.status_loadPT"
   ]
  },
  {
   "cell_type": "code",
   "execution_count": 59,
   "metadata": {},
   "outputs": [],
   "source": [
    "#不能载入其它粒子了，但依然可以 载入其它任意halo和subhalo的group catalog"
   ]
  },
  {
   "cell_type": "code",
   "execution_count": 60,
   "metadata": {},
   "outputs": [
    {
     "data": {
      "text/plain": [
       "array([], dtype=float64)"
      ]
     },
     "execution_count": 60,
     "metadata": {},
     "output_type": "execute_result"
    }
   ],
   "source": [
    "Snapshot.GC_loaded_Subhalo    # 没有subhalo 导入GC"
   ]
  },
  {
   "cell_type": "code",
   "execution_count": 61,
   "metadata": {},
   "outputs": [],
   "source": [
    "Snapshot.load_GC()     #执行此语句将自动为所有激活的 Halo和subhalo 导入"
   ]
  },
  {
   "cell_type": "code",
   "execution_count": 62,
   "metadata": {},
   "outputs": [
    {
     "data": {
      "text/plain": [
       "array([590792, 590793])"
      ]
     },
     "execution_count": 62,
     "metadata": {},
     "output_type": "execute_result"
    }
   ],
   "source": [
    "Snapshot.GC_loaded_Subhalo   #因为只激活了两个subhalo 所以只导入了两个"
   ]
  },
  {
   "cell_type": "code",
   "execution_count": 63,
   "metadata": {},
   "outputs": [],
   "source": [
    "SubhaloID=np.arange(10000,10500)  # 假如你有一些subahloID"
   ]
  },
  {
   "cell_type": "code",
   "execution_count": 65,
   "metadata": {},
   "outputs": [
    {
     "name": "stdout",
     "output_type": "stream",
     "text": [
      "[10000 10001 10002 10003 10004 10005 10006 10007 10008 10009]\n"
     ]
    }
   ],
   "source": [
    "print(SubhaloID[0:10])"
   ]
  },
  {
   "cell_type": "code",
   "execution_count": 66,
   "metadata": {},
   "outputs": [],
   "source": [
    "Snapshot.subhalos[SubhaloID] #放进来进行激活"
   ]
  },
  {
   "cell_type": "code",
   "execution_count": 67,
   "metadata": {},
   "outputs": [],
   "source": [
    "Snapshot.load_GC()         #再为这些星系载入GC"
   ]
  },
  {
   "cell_type": "code",
   "execution_count": 68,
   "metadata": {},
   "outputs": [
    {
     "data": {
      "text/plain": [
       "{'a': 0.9999999999999998,\n",
       " 'h': 0.6774,\n",
       " 'omegaM0': 0.3089,\n",
       " 'omegaL0': 0.6911,\n",
       " 'omegaB0': 0.0486,\n",
       " 'sigma8': 0.8159,\n",
       " 'ns': 0.9667,\n",
       " 'boxsize': SimArray(51668.14289932, 'kpc'),\n",
       " 'Halos_total': 10247012,\n",
       " 'Subhalos_total': 5688113,\n",
       " 'filedir': '/home/dumin/IllustrisTNG/TNG50-1/output/',\n",
       " 'run': 'TNG50-1',\n",
       " 'Snapshot': 99,\n",
       " 'eps': SimArray(0.28786537, 'kpc'),\n",
       " 'Mdm': SimArray(457632.12282256, 'Msol'),\n",
       " 'baseunits': [Unit(\"kpc\"), Unit(\"km s**-1\"), Unit(\"Msol\")],\n",
       " 'SubhaloID': 10000,\n",
       " 'SubhaloBHMass': SimArray(0., dtype=float32, '1.00e+10 Msol h**-1'),\n",
       " 'SubhaloBHMdot': SimArray(0., dtype=float32, '1.02e+10 Msol Gyr**-1'),\n",
       " 'SubhaloBfldDisk': SimArray(0., dtype=float32, '1.00e+05 km h Msol**1/2 s**-1 kpc**-3/2 a**-2'),\n",
       " 'SubhaloBfldHalo': SimArray(0., dtype=float32, '1.00e+05 km h Msol**1/2 s**-1 kpc**-3/2 a**-2'),\n",
       " 'SubhaloCM': SimArray([ 7976.6475, 24587.611 , 21290.11  ], dtype=float32, 'a kpc h**-1'),\n",
       " 'SubhaloFlag': SimArray(True),\n",
       " 'SubhaloGasMetalFractions': SimArray([0., 0., 0., 0., 0., 0., 0., 0., 0., 0.], dtype=float32),\n",
       " 'SubhaloGasMetalFractionsHalfRad': SimArray([0., 0., 0., 0., 0., 0., 0., 0., 0., 0.], dtype=float32),\n",
       " 'SubhaloGasMetalFractionsMaxRad': SimArray([0., 0., 0., 0., 0., 0., 0., 0., 0., 0.], dtype=float32),\n",
       " 'SubhaloGasMetalFractionsSfr': SimArray([0., 0., 0., 0., 0., 0., 0., 0., 0., 0.], dtype=float32),\n",
       " 'SubhaloGasMetalFractionsSfrWeighted': SimArray([0., 0., 0., 0., 0., 0., 0., 0., 0., 0.], dtype=float32),\n",
       " 'SubhaloGasMetallicity': SimArray(0., dtype=float32),\n",
       " 'SubhaloGasMetallicityHalfRad': SimArray(0., dtype=float32),\n",
       " 'SubhaloGasMetallicityMaxRad': SimArray(0., dtype=float32),\n",
       " 'SubhaloGasMetallicitySfr': SimArray(0., dtype=float32),\n",
       " 'SubhaloGasMetallicitySfrWeighted': SimArray(0., dtype=float32),\n",
       " 'SubhaloGrNr': SimArray(0, dtype=int32),\n",
       " 'SubhaloHalfmassRad': SimArray(1.2520385, dtype=float32, 'a kpc h**-1'),\n",
       " 'SubhaloHalfmassRadType': SimArray([0.       , 1.2520385, 0.       , 0.       , 0.       ,\n",
       "           0.       ], dtype=float32, 'a kpc h**-1'),\n",
       " 'SubhaloIDMostbound': SimArray(2254329049, dtype=uint64),\n",
       " 'SubhaloLen': SimArray(237, dtype=int32),\n",
       " 'SubhaloLenType': SimArray([  0, 235,   0,   0,   2,   0], dtype=int32),\n",
       " 'SubhaloMass': SimArray(0.00722714, dtype=float32, '1.00e+10 Msol h**-1'),\n",
       " 'SubhaloMassInHalfRad': SimArray(0., dtype=float32, '1.00e+10 Msol h**-1'),\n",
       " 'SubhaloMassInHalfRadType': SimArray([0., 0., 0., 0., 0., 0.], dtype=float32, '1.00e+10 Msol h**-1'),\n",
       " 'SubhaloMassInMaxRad': SimArray(0.00246121, dtype=float32, '1.00e+10 Msol h**-1'),\n",
       " 'SubhaloMassInMaxRadType': SimArray([0.0000000e+00, 2.4589417e-03, 0.0000000e+00, 0.0000000e+00,\n",
       "           2.2671416e-06, 0.0000000e+00], dtype=float32, '1.00e+10 Msol h**-1'),\n",
       " 'SubhaloMassInRad': SimArray(0., dtype=float32, '1.00e+10 Msol h**-1'),\n",
       " 'SubhaloMassInRadType': SimArray([0., 0., 0., 0., 0., 0.], dtype=float32, '1.00e+10 Msol h**-1'),\n",
       " 'SubhaloMassType': SimArray([0.0000000e+00, 7.2231414e-03, 0.0000000e+00, 0.0000000e+00,\n",
       "           3.9960905e-06, 0.0000000e+00], dtype=float32, '1.00e+10 Msol h**-1'),\n",
       " 'SubhaloParent': SimArray(0, dtype=int32),\n",
       " 'SubhaloPos': SimArray([ 7976.591, 24587.37 , 21290.   ], dtype=float32, 'a kpc h**-1'),\n",
       " 'SubhaloSFR': SimArray(0., dtype=float32, 'Msol yr**-1'),\n",
       " 'SubhaloSFRinHalfRad': SimArray(0., dtype=float32, 'Msol yr**-1'),\n",
       " 'SubhaloSFRinMaxRad': SimArray(0., dtype=float32, 'Msol yr**-1'),\n",
       " 'SubhaloSFRinRad': SimArray(0., dtype=float32, 'Msol yr**-1'),\n",
       " 'SubhaloSpin': SimArray([-0.03024449,  0.23133878,  0.6280395 ], dtype=float32, 'kpc km h**-1 s**-1'),\n",
       " 'SubhaloStarMetalFractions': SimArray([0., 0., 0., 0., 0., 0., 0., 0., 0., 0.], dtype=float32),\n",
       " 'SubhaloStarMetalFractionsHalfRad': SimArray([0., 0., 0., 0., 0., 0., 0., 0., 0., 0.], dtype=float32),\n",
       " 'SubhaloStarMetalFractionsMaxRad': SimArray([7.5999999e-01, 2.3999999e-01, 1.0114498e-10, 1.0114498e-10,\n",
       "           1.0114498e-10, 1.0114498e-10, 1.0114498e-10, 1.0114498e-10,\n",
       "           1.0114498e-10, 1.0114498e-10], dtype=float32),\n",
       " 'SubhaloStarMetallicity': SimArray(0., dtype=float32),\n",
       " 'SubhaloStarMetallicityHalfRad': SimArray(0., dtype=float32),\n",
       " 'SubhaloStarMetallicityMaxRad': SimArray(8.0915985e-10, dtype=float32),\n",
       " 'SubhaloStellarPhotometrics': SimArray([-5.464142 , -5.494856 , -6.090367 , -8.057612 , -5.8401456,\n",
       "           -6.342517 , -6.5676413, -6.677862 ], dtype=float32),\n",
       " 'SubhaloStellarPhotometricsMassInRad': SimArray(2.2671416e-06, dtype=float32, '1.00e+10 Msol h**-1'),\n",
       " 'SubhaloStellarPhotometricsRad': SimArray(0.195, dtype=float32, 'a kpc h**-1'),\n",
       " 'SubhaloVel': SimArray([-469.02765 , -237.68228 ,   62.588238], dtype=float32, 'km s**-1'),\n",
       " 'SubhaloVelDisp': SimArray(5.7520337, dtype=float32, 'km s**-1'),\n",
       " 'SubhaloVmax': SimArray(11.669419, dtype=float32, 'km s**-1'),\n",
       " 'SubhaloVmaxRad': SimArray(0.7872224, dtype=float32, 'a kpc h**-1'),\n",
       " 'SubhaloWindMass': SimArray(0., dtype=float32, '1.00e+10 Msol h**-1')}"
      ]
     },
     "execution_count": 68,
     "metadata": {},
     "output_type": "execute_result"
    }
   ],
   "source": [
    "Snapshot.subhalos[10000].GC   #查看单个星系的 GC ，这是个字典"
   ]
  },
  {
   "cell_type": "code",
   "execution_count": 69,
   "metadata": {},
   "outputs": [],
   "source": [
    "Snapshot.physical_units()        #一些单位不是物理单位，这里可以再统一转化\n",
    "# 这里转换时默认为所有PT和GC都转换"
   ]
  },
  {
   "cell_type": "code",
   "execution_count": 71,
   "metadata": {},
   "outputs": [
    {
     "name": "stdout",
     "output_type": "stream",
     "text": [
      "[10000 10001 10002 10003 10004 10005 10006 10007 10008 10009]\n"
     ]
    }
   ],
   "source": [
    "print(Snapshot.GC_loaded_Subhalo[0:10])"
   ]
  },
  {
   "cell_type": "code",
   "execution_count": 73,
   "metadata": {},
   "outputs": [
    {
     "data": {
      "text/plain": [
       "502"
      ]
     },
     "execution_count": 73,
     "metadata": {},
     "output_type": "execute_result"
    }
   ],
   "source": [
    "len(Snapshot.GC_loaded_Subhalo)"
   ]
  },
  {
   "cell_type": "code",
   "execution_count": 74,
   "metadata": {},
   "outputs": [
    {
     "data": {
      "text/plain": [
       "SimArray([0.00000000e+00, 0.00000000e+00, 0.00000000e+00, 0.00000000e+00,\n",
       "          0.00000000e+00, 0.00000000e+00, 0.00000000e+00, 0.00000000e+00,\n",
       "          0.00000000e+00, 0.00000000e+00, 8.99680240e+07, 0.00000000e+00,\n",
       "          0.00000000e+00, 0.00000000e+00, 0.00000000e+00, 0.00000000e+00,\n",
       "          0.00000000e+00, 0.00000000e+00, 0.00000000e+00, 0.00000000e+00,\n",
       "          0.00000000e+00, 0.00000000e+00, 0.00000000e+00, 8.94610800e+07,\n",
       "          0.00000000e+00, 0.00000000e+00, 0.00000000e+00, 0.00000000e+00,\n",
       "          0.00000000e+00, 0.00000000e+00, 0.00000000e+00, 0.00000000e+00,\n",
       "          0.00000000e+00, 0.00000000e+00, 0.00000000e+00, 0.00000000e+00,\n",
       "          0.00000000e+00, 0.00000000e+00, 0.00000000e+00, 0.00000000e+00,\n",
       "          0.00000000e+00, 9.46045680e+07, 0.00000000e+00, 8.90037760e+07,\n",
       "          0.00000000e+00, 0.00000000e+00, 0.00000000e+00, 0.00000000e+00,\n",
       "          0.00000000e+00, 0.00000000e+00, 0.00000000e+00, 8.71304800e+07,\n",
       "          0.00000000e+00, 0.00000000e+00, 0.00000000e+00, 0.00000000e+00,\n",
       "          0.00000000e+00, 0.00000000e+00, 0.00000000e+00, 0.00000000e+00,\n",
       "          0.00000000e+00, 0.00000000e+00, 0.00000000e+00, 0.00000000e+00,\n",
       "          0.00000000e+00, 0.00000000e+00, 0.00000000e+00, 0.00000000e+00,\n",
       "          0.00000000e+00, 0.00000000e+00, 0.00000000e+00, 0.00000000e+00,\n",
       "          0.00000000e+00, 1.03562256e+08, 0.00000000e+00, 0.00000000e+00,\n",
       "          0.00000000e+00, 0.00000000e+00, 0.00000000e+00, 0.00000000e+00,\n",
       "          0.00000000e+00, 0.00000000e+00, 0.00000000e+00, 0.00000000e+00,\n",
       "          0.00000000e+00, 0.00000000e+00, 0.00000000e+00, 0.00000000e+00,\n",
       "          0.00000000e+00, 0.00000000e+00, 0.00000000e+00, 0.00000000e+00,\n",
       "          0.00000000e+00, 9.58603280e+07, 0.00000000e+00, 0.00000000e+00,\n",
       "          0.00000000e+00, 0.00000000e+00, 0.00000000e+00, 9.13645520e+07,\n",
       "          0.00000000e+00, 0.00000000e+00, 0.00000000e+00, 0.00000000e+00,\n",
       "          0.00000000e+00, 0.00000000e+00, 0.00000000e+00, 0.00000000e+00,\n",
       "          0.00000000e+00, 0.00000000e+00, 0.00000000e+00, 0.00000000e+00,\n",
       "          0.00000000e+00, 0.00000000e+00, 0.00000000e+00, 0.00000000e+00,\n",
       "          0.00000000e+00, 0.00000000e+00, 0.00000000e+00, 0.00000000e+00,\n",
       "          0.00000000e+00, 0.00000000e+00, 0.00000000e+00, 0.00000000e+00,\n",
       "          0.00000000e+00, 0.00000000e+00, 8.46628800e+07, 0.00000000e+00,\n",
       "          0.00000000e+00, 9.59861040e+07, 0.00000000e+00, 0.00000000e+00,\n",
       "          0.00000000e+00, 0.00000000e+00, 0.00000000e+00, 0.00000000e+00,\n",
       "          0.00000000e+00, 0.00000000e+00, 0.00000000e+00, 0.00000000e+00,\n",
       "          0.00000000e+00, 0.00000000e+00, 0.00000000e+00, 0.00000000e+00,\n",
       "          0.00000000e+00, 0.00000000e+00, 0.00000000e+00, 8.99235360e+07,\n",
       "          0.00000000e+00, 0.00000000e+00, 0.00000000e+00, 0.00000000e+00,\n",
       "          0.00000000e+00, 0.00000000e+00, 0.00000000e+00, 0.00000000e+00,\n",
       "          0.00000000e+00, 0.00000000e+00, 0.00000000e+00, 9.08393920e+07,\n",
       "          1.04466904e+08, 0.00000000e+00, 0.00000000e+00, 0.00000000e+00,\n",
       "          0.00000000e+00, 0.00000000e+00, 0.00000000e+00, 0.00000000e+00,\n",
       "          0.00000000e+00, 0.00000000e+00, 0.00000000e+00, 0.00000000e+00,\n",
       "          0.00000000e+00, 0.00000000e+00, 0.00000000e+00, 0.00000000e+00,\n",
       "          0.00000000e+00, 0.00000000e+00, 0.00000000e+00, 0.00000000e+00,\n",
       "          0.00000000e+00, 0.00000000e+00, 0.00000000e+00, 0.00000000e+00,\n",
       "          0.00000000e+00, 0.00000000e+00, 0.00000000e+00, 9.69773680e+07,\n",
       "          0.00000000e+00, 0.00000000e+00, 0.00000000e+00, 0.00000000e+00,\n",
       "          9.38222320e+07, 0.00000000e+00, 0.00000000e+00, 7.13813360e+07,\n",
       "          0.00000000e+00, 0.00000000e+00, 0.00000000e+00, 0.00000000e+00,\n",
       "          0.00000000e+00, 0.00000000e+00, 0.00000000e+00, 0.00000000e+00,\n",
       "          0.00000000e+00, 0.00000000e+00, 0.00000000e+00, 0.00000000e+00,\n",
       "          0.00000000e+00, 0.00000000e+00, 0.00000000e+00, 0.00000000e+00,\n",
       "          9.40457920e+07, 0.00000000e+00, 0.00000000e+00, 0.00000000e+00,\n",
       "          0.00000000e+00, 0.00000000e+00, 0.00000000e+00, 0.00000000e+00,\n",
       "          0.00000000e+00, 0.00000000e+00, 0.00000000e+00, 0.00000000e+00,\n",
       "          0.00000000e+00, 0.00000000e+00, 0.00000000e+00, 0.00000000e+00,\n",
       "          0.00000000e+00, 7.78688640e+07, 0.00000000e+00, 7.81116720e+07,\n",
       "          0.00000000e+00, 0.00000000e+00, 0.00000000e+00, 0.00000000e+00,\n",
       "          0.00000000e+00, 0.00000000e+00, 0.00000000e+00, 0.00000000e+00,\n",
       "          0.00000000e+00, 0.00000000e+00, 0.00000000e+00, 0.00000000e+00,\n",
       "          0.00000000e+00, 9.35836720e+07, 0.00000000e+00, 0.00000000e+00,\n",
       "          0.00000000e+00, 0.00000000e+00, 0.00000000e+00, 0.00000000e+00,\n",
       "          0.00000000e+00, 0.00000000e+00, 0.00000000e+00, 0.00000000e+00,\n",
       "          0.00000000e+00, 0.00000000e+00, 0.00000000e+00, 0.00000000e+00,\n",
       "          0.00000000e+00, 0.00000000e+00, 0.00000000e+00, 0.00000000e+00,\n",
       "          0.00000000e+00, 0.00000000e+00, 0.00000000e+00, 0.00000000e+00,\n",
       "          0.00000000e+00, 9.73103280e+07, 0.00000000e+00, 0.00000000e+00,\n",
       "          0.00000000e+00, 0.00000000e+00, 0.00000000e+00, 0.00000000e+00,\n",
       "          0.00000000e+00, 0.00000000e+00, 0.00000000e+00, 0.00000000e+00,\n",
       "          8.81831280e+07, 0.00000000e+00, 0.00000000e+00, 0.00000000e+00,\n",
       "          0.00000000e+00, 0.00000000e+00, 0.00000000e+00, 0.00000000e+00,\n",
       "          0.00000000e+00, 0.00000000e+00, 0.00000000e+00, 0.00000000e+00,\n",
       "          0.00000000e+00, 0.00000000e+00, 0.00000000e+00, 0.00000000e+00,\n",
       "          0.00000000e+00, 0.00000000e+00, 0.00000000e+00, 0.00000000e+00,\n",
       "          0.00000000e+00, 0.00000000e+00, 0.00000000e+00, 0.00000000e+00,\n",
       "          0.00000000e+00, 0.00000000e+00, 0.00000000e+00, 0.00000000e+00,\n",
       "          0.00000000e+00, 0.00000000e+00, 0.00000000e+00, 0.00000000e+00,\n",
       "          0.00000000e+00, 0.00000000e+00, 0.00000000e+00, 0.00000000e+00,\n",
       "          8.99691520e+07, 5.72672800e+07, 0.00000000e+00, 0.00000000e+00,\n",
       "          0.00000000e+00, 7.89709040e+07, 0.00000000e+00, 0.00000000e+00,\n",
       "          0.00000000e+00, 0.00000000e+00, 0.00000000e+00, 0.00000000e+00,\n",
       "          0.00000000e+00, 0.00000000e+00, 0.00000000e+00, 0.00000000e+00,\n",
       "          0.00000000e+00, 0.00000000e+00, 0.00000000e+00, 0.00000000e+00,\n",
       "          0.00000000e+00, 0.00000000e+00, 0.00000000e+00, 0.00000000e+00,\n",
       "          0.00000000e+00, 0.00000000e+00, 0.00000000e+00, 0.00000000e+00,\n",
       "          0.00000000e+00, 0.00000000e+00, 0.00000000e+00, 6.14748320e+07,\n",
       "          0.00000000e+00, 9.73645040e+07, 0.00000000e+00, 0.00000000e+00,\n",
       "          0.00000000e+00, 0.00000000e+00, 0.00000000e+00, 0.00000000e+00,\n",
       "          0.00000000e+00, 0.00000000e+00, 0.00000000e+00, 0.00000000e+00,\n",
       "          0.00000000e+00, 0.00000000e+00, 0.00000000e+00, 0.00000000e+00,\n",
       "          0.00000000e+00, 0.00000000e+00, 0.00000000e+00, 0.00000000e+00,\n",
       "          0.00000000e+00, 9.42092800e+07, 0.00000000e+00, 0.00000000e+00,\n",
       "          0.00000000e+00, 0.00000000e+00, 0.00000000e+00, 0.00000000e+00,\n",
       "          0.00000000e+00, 0.00000000e+00, 0.00000000e+00, 0.00000000e+00,\n",
       "          0.00000000e+00, 0.00000000e+00, 0.00000000e+00, 0.00000000e+00,\n",
       "          0.00000000e+00, 0.00000000e+00, 0.00000000e+00, 0.00000000e+00,\n",
       "          0.00000000e+00, 0.00000000e+00, 0.00000000e+00, 0.00000000e+00,\n",
       "          0.00000000e+00, 0.00000000e+00, 0.00000000e+00, 0.00000000e+00,\n",
       "          0.00000000e+00, 0.00000000e+00, 0.00000000e+00, 0.00000000e+00,\n",
       "          0.00000000e+00, 0.00000000e+00, 0.00000000e+00, 0.00000000e+00,\n",
       "          0.00000000e+00, 9.50109760e+07, 0.00000000e+00, 0.00000000e+00,\n",
       "          0.00000000e+00, 0.00000000e+00, 0.00000000e+00, 0.00000000e+00,\n",
       "          0.00000000e+00, 0.00000000e+00, 0.00000000e+00, 0.00000000e+00,\n",
       "          0.00000000e+00, 0.00000000e+00, 0.00000000e+00, 0.00000000e+00,\n",
       "          0.00000000e+00, 0.00000000e+00, 0.00000000e+00, 9.95555200e+07,\n",
       "          8.51102400e+07, 0.00000000e+00, 0.00000000e+00, 0.00000000e+00,\n",
       "          0.00000000e+00, 0.00000000e+00, 0.00000000e+00, 0.00000000e+00,\n",
       "          0.00000000e+00, 0.00000000e+00, 0.00000000e+00, 0.00000000e+00,\n",
       "          0.00000000e+00, 0.00000000e+00, 0.00000000e+00, 0.00000000e+00,\n",
       "          8.69892720e+07, 0.00000000e+00, 0.00000000e+00, 0.00000000e+00,\n",
       "          0.00000000e+00, 0.00000000e+00, 0.00000000e+00, 0.00000000e+00,\n",
       "          0.00000000e+00, 9.05355840e+07, 0.00000000e+00, 0.00000000e+00,\n",
       "          0.00000000e+00, 0.00000000e+00, 0.00000000e+00, 0.00000000e+00,\n",
       "          0.00000000e+00, 0.00000000e+00, 0.00000000e+00, 0.00000000e+00,\n",
       "          0.00000000e+00, 0.00000000e+00, 0.00000000e+00, 0.00000000e+00,\n",
       "          0.00000000e+00, 0.00000000e+00, 0.00000000e+00, 0.00000000e+00,\n",
       "          0.00000000e+00, 0.00000000e+00, 0.00000000e+00, 0.00000000e+00,\n",
       "          0.00000000e+00, 0.00000000e+00, 0.00000000e+00, 7.72018640e+07,\n",
       "          0.00000000e+00, 9.81272720e+07, 0.00000000e+00, 0.00000000e+00,\n",
       "          9.04873200e+07, 0.00000000e+00, 0.00000000e+00, 0.00000000e+00,\n",
       "          0.00000000e+00, 0.00000000e+00, 0.00000000e+00, 0.00000000e+00,\n",
       "          0.00000000e+00, 0.00000000e+00, 0.00000000e+00, 0.00000000e+00,\n",
       "          0.00000000e+00, 0.00000000e+00, 0.00000000e+00, 0.00000000e+00,\n",
       "          0.00000000e+00, 0.00000000e+00, 0.00000000e+00, 0.00000000e+00,\n",
       "          1.01610037e+11, 3.76722976e+08], dtype=float32, 'Msol')"
      ]
     },
     "execution_count": 74,
     "metadata": {},
     "output_type": "execute_result"
    }
   ],
   "source": [
    "Snapshot.subhalos.GC('SubhaloMassInRad') #查看所有已导入GC的subhalo的某一类属性"
   ]
  },
  {
   "cell_type": "code",
   "execution_count": 76,
   "metadata": {},
   "outputs": [
    {
     "data": {
      "text/plain": [
       "SimArray([11.040419  , 10.443959  ,  9.060371  , ..., -0.19697504,\n",
       "          -0.19697504, -0.19697504], dtype=float32, 'Gyr')"
      ]
     },
     "execution_count": 76,
     "metadata": {},
     "output_type": "execute_result"
    }
   ],
   "source": [
    "Snapshot.s['age'].in_units('Gyr')              # 恒星粒子的年龄"
   ]
  },
  {
   "cell_type": "code",
   "execution_count": 78,
   "metadata": {},
   "outputs": [],
   "source": [
    "Snapshot.s['age'].convert_units('Gyr')  # 转化指定单位 用这条命令"
   ]
  },
  {
   "cell_type": "code",
   "execution_count": 79,
   "metadata": {},
   "outputs": [
    {
     "data": {
      "text/plain": [
       "SimArray([11.040419  , 10.443959  ,  9.060371  , ..., -0.19697504,\n",
       "          -0.19697504, -0.19697504], dtype=float32, 'Gyr')"
      ]
     },
     "execution_count": 79,
     "metadata": {},
     "output_type": "execute_result"
    }
   ],
   "source": [
    "Snapshot.s['age']            #小于0的为 wind particle 详情见官网描述"
   ]
  },
  {
   "cell_type": "code",
   "execution_count": 80,
   "metadata": {},
   "outputs": [
    {
     "data": {
      "text/plain": [
       "SimArray([ 2.7626069,  3.359066 ,  4.742654 , ..., 14.       , 14.       ,\n",
       "          14.       ], dtype=float32, 'Gyr')"
      ]
     },
     "execution_count": 80,
     "metadata": {},
     "output_type": "execute_result"
    }
   ],
   "source": [
    "Snapshot.s['tform']                #形成时间，  为14的，为wind particle"
   ]
  },
  {
   "cell_type": "code",
   "execution_count": 81,
   "metadata": {},
   "outputs": [
    {
     "data": {
      "text/plain": [
       "<Halos \"TNG50-1_snapshot99\" num=1>"
      ]
     },
     "execution_count": 81,
     "metadata": {},
     "output_type": "execute_result"
    }
   ],
   "source": [
    "Snapshot.halos   #已载入激活的所有halo，num=1 意思是只有一个Halo被载入"
   ]
  },
  {
   "cell_type": "code",
   "execution_count": 82,
   "metadata": {},
   "outputs": [
    {
     "data": {
      "text/plain": [
       "<Subhalos \"TNG50-1_snapshot99\" num=502>"
      ]
     },
     "execution_count": 82,
     "metadata": {},
     "output_type": "execute_result"
    }
   ],
   "source": [
    "Snapshot.subhalos  #已激活的所有subhalo，num=502。尽管有subhalo被载入了，但没有匹配粒子。"
   ]
  },
  {
   "cell_type": "code",
   "execution_count": 30,
   "metadata": {},
   "outputs": [],
   "source": [
    "otherSubhalo=Snapshot.load_particle(30,'Subhalo')             #如果不想载入粒子在该snapshot中，独立载入一个Subhalo"
   ]
  },
  {
   "cell_type": "code",
   "execution_count": 83,
   "metadata": {},
   "outputs": [
    {
     "data": {
      "text/plain": [
       "{'particle_field': 'dm,star,gas,bh',\n",
       " 'Basefields': ['Coordinates', 'Velocities', 'Masses', 'ParticleIDs'],\n",
       " 'star_fields': ['ParticleIDs',\n",
       "  'Masses',\n",
       "  'GFM_StellarFormationTime',\n",
       "  'Velocities',\n",
       "  'Coordinates'],\n",
       " 'gas_fields': ['Density',\n",
       "  'ParticleIDs',\n",
       "  'Masses',\n",
       "  'InternalEnergy',\n",
       "  'GFM_Metals',\n",
       "  'Velocities',\n",
       "  'Coordinates',\n",
       "  'ElectronAbundance'],\n",
       " 'dm_fields': ['Coordinates', 'Velocities', 'ParticleIDs', 'Masses'],\n",
       " 'bh_fields': ['Coordinates', 'Velocities', 'Masses', 'ParticleIDs']}"
      ]
     },
     "execution_count": 83,
     "metadata": {},
     "output_type": "execute_result"
    }
   ],
   "source": [
    "Snapshot.load_particle_para         #这里查看 每个类型粒子 从文件中读取到的参数"
   ]
  }
 ],
 "metadata": {
  "kernelspec": {
   "display_name": "Python 3",
   "language": "python",
   "name": "python3"
  },
  "language_info": {
   "codemirror_mode": {
    "name": "ipython",
    "version": 3
   },
   "file_extension": ".py",
   "mimetype": "text/x-python",
   "name": "python",
   "nbconvert_exporter": "python",
   "pygments_lexer": "ipython3",
   "version": "3.8.10"
  }
 },
 "nbformat": 4,
 "nbformat_minor": 2
}
