{
 "cells": [
  {
   "cell_type": "code",
   "execution_count": 1,
   "metadata": {},
   "outputs": [],
   "source": [
    "from AnastrisTNG import TNGsimulation, TNGtools, Anatools, TNGmergertree  \n",
    "import numpy as np\n",
    "import matplotlib.pyplot as plt"
   ]
  },
  {
   "cell_type": "code",
   "execution_count": 2,
   "metadata": {},
   "outputs": [],
   "source": [
    "import scienceplots\n",
    "plt.style.use(['science','no-latex'])"
   ]
  },
  {
   "cell_type": "code",
   "execution_count": 3,
   "metadata": {},
   "outputs": [],
   "source": [
    "run = 'TNG50'\n",
    "BasePath = '/home/dumin/IllustrisTNG/' + run + '-1/output/'         \n",
    "snap=99                                                            "
   ]
  },
  {
   "cell_type": "code",
   "execution_count": 4,
   "metadata": {},
   "outputs": [],
   "source": [
    "Snapshot=TNGsimulation.Snapshot(BasePath,snap)                    "
   ]
  },
  {
   "cell_type": "code",
   "execution_count": 5,
   "metadata": {},
   "outputs": [],
   "source": [
    "sub = Snapshot.load_particle(ID=10)"
   ]
  },
  {
   "cell_type": "code",
   "execution_count": 6,
   "metadata": {},
   "outputs": [],
   "source": [
    "sub.physical_units()\n",
    "sub.face_on(alignwith='star',rmax=8)"
   ]
  },
  {
   "cell_type": "markdown",
   "metadata": {},
   "source": [
    "单位物理化，并让星系 face on,  \\\n",
    "face on 的更多详情， 见 [AnastrisTNG_galaxy_face_on-cn.ipynb](./AnastrisTNG_galaxy_face_on-cn.ipynb)"
   ]
  },
  {
   "cell_type": "markdown",
   "metadata": {},
   "source": [
    "### 星系三维，恒星的半质量半径 re"
   ]
  },
  {
   "cell_type": "code",
   "execution_count": 8,
   "metadata": {},
   "outputs": [
    {
     "data": {
      "text/plain": [
       "SimArray(6.41461465, 'kpc')"
      ]
     },
     "execution_count": 8,
     "metadata": {},
     "output_type": "execute_result"
    }
   ],
   "source": [
    "sub.re"
   ]
  },
  {
   "cell_type": "markdown",
   "metadata": {},
   "source": [
    "### 星系二维投影x-y平面，恒星的半质量半径 Re"
   ]
  },
  {
   "cell_type": "code",
   "execution_count": 9,
   "metadata": {},
   "outputs": [
    {
     "data": {
      "text/plain": [
       "SimArray(6.19853736, 'kpc')"
      ]
     },
     "execution_count": 9,
     "metadata": {},
     "output_type": "execute_result"
    }
   ],
   "source": [
    "sub.Re"
   ]
  },
  {
   "cell_type": "markdown",
   "metadata": {},
   "source": [
    "### r 与 R"
   ]
  },
  {
   "cell_type": "code",
   "execution_count": 10,
   "metadata": {},
   "outputs": [
    {
     "data": {
      "text/plain": [
       "SimArray(13.64113441, 'kpc')"
      ]
     },
     "execution_count": 10,
     "metadata": {},
     "output_type": "execute_result"
    }
   ],
   "source": [
    "sub.r(frac=0.8,calfor='gas',calpa='mass',rmax=30)"
   ]
  },
  {
   "cell_type": "markdown",
   "metadata": {},
   "source": [
    "func: sub.r() \\\n",
    "frac: 取值0~1，计算多大的占比，若为 0.5 -> 类似于 半质量半径，\\\n",
    "calfor: 为什么物质计算，气体：‘gas’，恒星：‘star’，重子物质：‘baryon’，暗物质：‘dm’，所有物质：‘all’，\\\n",
    "calpa：计算什么参数，‘mass’，则为质量，\\\n",
    "rmax：限制物质的计算范围，类似的有 rmin, Rmin, Rmax, zmax。。。 \\ "
   ]
  },
  {
   "cell_type": "code",
   "execution_count": 11,
   "metadata": {},
   "outputs": [
    {
     "data": {
      "text/plain": [
       "SimArray(1.32898036, 'kpc')"
      ]
     },
     "execution_count": 11,
     "metadata": {},
     "output_type": "execute_result"
    }
   ],
   "source": [
    "sub.R(frac=0.2,calfor='baryon',calpa='mass',Rmax=15)"
   ]
  },
  {
   "cell_type": "markdown",
   "metadata": {},
   "source": [
    "参数类似于 sub.r， 只不过返回 二维投影 的半径 R"
   ]
  },
  {
   "cell_type": "markdown",
   "metadata": {},
   "source": [
    "### 密度 与 面密度"
   ]
  },
  {
   "cell_type": "code",
   "execution_count": 30,
   "metadata": {},
   "outputs": [
    {
     "data": {
      "text/plain": [
       "SimArray(1.75116804e+09, 'Msol kpc**-3')"
      ]
     },
     "execution_count": 30,
     "metadata": {},
     "output_type": "execute_result"
    }
   ],
   "source": [
    "sub.rho(rmax=1,calfor = 'star',calpa='mass') # 1kpc内 恒星 质量密度"
   ]
  },
  {
   "cell_type": "markdown",
   "metadata": {},
   "source": [
    "rmax计算多大范围， \\\n",
    "calfor：见上文 \\\n",
    "calpa：若为mass 则为密度"
   ]
  },
  {
   "cell_type": "code",
   "execution_count": 31,
   "metadata": {},
   "outputs": [
    {
     "data": {
      "text/plain": [
       "SimArray(243816.4807986, 'Msol kpc**-2')"
      ]
     },
     "execution_count": 31,
     "metadata": {},
     "output_type": "execute_result"
    }
   ],
   "source": [
    "sub.Sigma(Rmax=3,calfor='gas',calpa='mass',Rmin=2,zmax=1) # 投影半径2-3kpc内，z在1kpc内的，气体的质量面密度"
   ]
  },
  {
   "cell_type": "markdown",
   "metadata": {},
   "source": [
    "Rmax 最大半径 \\\n",
    "Rmin 最小半径 \\\n",
    "zmax，若传入，则限制z 高度处于 -zmax~zmax 之间。\\\n",
    "其余同上"
   ]
  },
  {
   "cell_type": "markdown",
   "metadata": {},
   "source": [
    "### 计算 位力半径"
   ]
  },
  {
   "cell_type": "code",
   "execution_count": 12,
   "metadata": {},
   "outputs": [
    {
     "data": {
      "text/plain": [
       "SimArray(147.03635617, 'kpc')"
      ]
     },
     "execution_count": 12,
     "metadata": {},
     "output_type": "execute_result"
    }
   ],
   "source": [
    "sub.R_vir(cen=[0,0,0],overden=178,)"
   ]
  },
  {
   "cell_type": "markdown",
   "metadata": {},
   "source": [
    "cen 中心坐标位置，如果没有传入，则使用ssc方法 计算中心坐标后 再计算 位力半径 \\\n",
    "overden 多少倍的宇宙临界密度，178倍为位力半径， 200，与500，也常用。\\\n",
    "rho_def 默认为 ‘critical’ ，即宇宙临界密度。 注意宇宙临界密度随红移变化 "
   ]
  },
  {
   "cell_type": "markdown",
   "metadata": {},
   "source": [
    "### 计算 krot"
   ]
  },
  {
   "cell_type": "code",
   "execution_count": 13,
   "metadata": {},
   "outputs": [
    {
     "data": {
      "text/plain": [
       "array(0.72646002)"
      ]
     },
     "execution_count": 13,
     "metadata": {},
     "output_type": "execute_result"
    }
   ],
   "source": [
    "sub.krot(calfor='star',rmax=30) #计算 r < 30 内的 当前坐标系统下 恒星的krot"
   ]
  },
  {
   "cell_type": "code",
   "execution_count": 14,
   "metadata": {},
   "outputs": [
    {
     "data": {
      "text/plain": [
       "{'krotmax': 0.7264616687262611,\n",
       " 'krotvec': array([-9.53126674e-04,  2.50283187e-03,  9.99996414e-01]),\n",
       " 'krotmat': array([[ 9.99999546e-01, -0.00000000e+00,  9.53129659e-04],\n",
       "        [ 2.38552328e-06,  9.99996868e-01, -2.50283073e-03],\n",
       "        [-9.53126674e-04,  2.50283187e-03,  9.99996414e-01]]),\n",
       " 'angle': 0.15344826999494784}"
      ]
     },
     "execution_count": 14,
     "metadata": {},
     "output_type": "execute_result"
    }
   ],
   "source": [
    "sub.krot(calfor='star',rmax=30, calmode = 'max')"
   ]
  },
  {
   "cell_type": "markdown",
   "metadata": {},
   "source": [
    "计算 拟合得到的 最大krot，\\\n",
    "krotmax，为最大krot \\\n",
    "krotvec，最大krot的 单位方向向量， \\\n",
    "krotmat，转动到最大krot同方向的，转动矩阵， \\\n",
    "angle，最大krot的方向 与当前z轴的 夹角，单位 度，范围 0~90。\\"
   ]
  },
  {
   "cell_type": "markdown",
   "metadata": {},
   "source": [
    "calfor ： 见上文，与之前 作用相同 \\\n",
    "rmax： 见上文， \\\n",
    "calmode：默认为‘now’，即为当前坐标系下的krot。‘max’，则为最大的krot \\"
   ]
  },
  {
   "cell_type": "markdown",
   "metadata": {},
   "source": [
    "### 中心坐标与速度"
   ]
  },
  {
   "cell_type": "code",
   "execution_count": 15,
   "metadata": {},
   "outputs": [
    {
     "data": {
      "text/plain": [
       "SimArray([-7.73286348e-06,  2.23856670e-05,  2.32785573e-05], 'kpc')"
      ]
     },
     "execution_count": 15,
     "metadata": {},
     "output_type": "execute_result"
    }
   ],
   "source": [
    "https://www.tng-project.org/data/docs/specifications/#sec2bsub.center()"
   ]
  },
  {
   "cell_type": "markdown",
   "metadata": {},
   "source": [
    "计算中心坐标，因为已经face on了，所以几乎为0,0,0. \\\n",
    "mode : 计算方式， ‘pot’， ‘com’，‘ssc’，‘hyb’ \\\n",
    "默认为‘ssc’，‘com’为质心，‘pot’为引力势最低点，‘hyb’与‘pot’ 需要计算引力势。\\"
   ]
  },
  {
   "cell_type": "code",
   "execution_count": 17,
   "metadata": {},
   "outputs": [
    {
     "data": {
      "text/plain": [
       "SimArray([ 0.00028406, -0.00092276, -0.00061919], 'km s**-1')"
      ]
     },
     "execution_count": 17,
     "metadata": {},
     "output_type": "execute_result"
    }
   ],
   "source": [
    "sub.vel_center()"
   ]
  },
  {
   "cell_type": "markdown",
   "metadata": {},
   "source": [
    "计算中心速度，因为已经face on了，所以几乎为0,0,0. \\\n",
    "mode : 计算中心坐标方式， ‘pot’， ‘com’，‘ssc’，‘hyb’ \\\n",
    "pos : 如果传入了 pos， 则以该pos为中心 计算速度，\\\n",
    "r_cal: 计算范围，默认为'1 kpc'"
   ]
  },
  {
   "cell_type": "markdown",
   "metadata": {},
   "source": [
    "### 角动量与惯性矩"
   ]
  },
  {
   "cell_type": "code",
   "execution_count": 18,
   "metadata": {},
   "outputs": [
    {
     "data": {
      "text/plain": [
       "array([-3.13940939e+11,  6.55965267e+11,  7.38596277e+13])"
      ]
     },
     "execution_count": 18,
     "metadata": {},
     "output_type": "execute_result"
    }
   ],
   "source": [
    "sub.ang_mom_vec(alignwith = 'star', rmax=30) "
   ]
  },
  {
   "cell_type": "markdown",
   "metadata": {},
   "source": [
    "计算当前坐标系下 角动量 \\\n",
    "alignwith 与 calfor的作用相同，\\\n",
    "rmax ： 见上文"
   ]
  },
  {
   "cell_type": "code",
   "execution_count": 19,
   "metadata": {},
   "outputs": [
    {
     "data": {
      "text/plain": [
       "(array([13.88295008]),\n",
       " array([14.63247497, 14.41763017, 12.68333943]),\n",
       " array([329482]),\n",
       " array([[-0.02878249, -0.99862584, -0.04379487],\n",
       "        [ 0.99620462, -0.03225813,  0.08084409],\n",
       "        [-0.08214574, -0.04130176,  0.99576415]]),\n",
       " 5.275472054207785)"
      ]
     },
     "execution_count": 19,
     "metadata": {},
     "output_type": "execute_result"
    }
   ],
   "source": [
    "sub.moi_shape(calfor='dm',calpa = 'mass', rmax = 30)"
   ]
  },
  {
   "cell_type": "markdown",
   "metadata": {},
   "source": [
    "计算惯性矩 \\\n",
    "calfor ：见上文 \\\n",
    "calpa ：见上文 \\\n",
    "rmax ... 见上文 \\\n",
    "返回值 ： \\\n",
    "    半径， \\   \n",
    "    三轴长度: (a,b,c)，\\\n",
    "    计算用到的粒子总数， \\\n",
    "    对齐，a,b,c到 x,y,z，的转动矩阵。 \\\n",
    "    c与z方向的夹角，单位 度。 \\"
   ]
  },
  {
   "cell_type": "markdown",
   "metadata": {},
   "source": [
    "### 星系的组装历史与恒星形成历史"
   ]
  },
  {
   "cell_type": "code",
   "execution_count": 20,
   "metadata": {},
   "outputs": [],
   "source": [
    "Snapshot.load_particle_para['star_fields']=['GFM_StellarFormationTime','GFM_InitialMass']\n",
    "sub = Snapshot.load_particle(ID=10)\n",
    "sub.physical_units()\n",
    "sub.face_on(alignwith='star',rmax=8)"
   ]
  },
  {
   "cell_type": "markdown",
   "metadata": {},
   "source": [
    "需要用到 恒星粒子的形成时间 GFM_StellarFormationTime 和 形成时质量 GFM_InitialMass \\\n",
    "所以重新载入"
   ]
  },
  {
   "cell_type": "code",
   "execution_count": 22,
   "metadata": {},
   "outputs": [],
   "source": [
    "sfr = sub.sfh(nbins=200,massmode='birth')"
   ]
  },
  {
   "cell_type": "markdown",
   "metadata": {},
   "source": [
    "nbins 用于给时间分bin \\\n",
    "massmode 可以为 ‘birth’ 则用GFM_InitialMass，‘now’ 则用当前的 恒星粒子mass"
   ]
  },
  {
   "cell_type": "code",
   "execution_count": 23,
   "metadata": {},
   "outputs": [],
   "source": [
    "massevo = sub.sfh(nbins=200,massmode='now')"
   ]
  },
  {
   "cell_type": "code",
   "execution_count": 24,
   "metadata": {},
   "outputs": [
    {
     "data": {
      "text/plain": [
       "[<matplotlib.lines.Line2D at 0x7f84881a0a60>]"
      ]
     },
     "execution_count": 24,
     "metadata": {},
     "output_type": "execute_result"
    },
    {
     "data": {
      "image/png": "[encoded data removed]",
      "text/plain": [
       "<Figure size 350x262.5 with 1 Axes>"
      ]
     },
     "metadata": {},
     "output_type": "display_data"
    }
   ],
   "source": [
    "plt.plot(sfr['t'],sfr['sfr'])\n",
    "plt.plot(massevo['t'],massevo['sfr'])"
   ]
  },
  {
   "cell_type": "markdown",
   "metadata": {},
   "source": [
    "恒星形成历史，使用 massmode='birth' 来估计会更准确些"
   ]
  },
  {
   "cell_type": "code",
   "execution_count": 26,
   "metadata": {},
   "outputs": [
    {
     "data": {
      "text/plain": [
       "[<matplotlib.lines.Line2D at 0x7f84802886a0>]"
      ]
     },
     "execution_count": 26,
     "metadata": {},
     "output_type": "execute_result"
    },
    {
     "data": {
      "image/png": "[encoded data removed]",
      "text/plain": [
       "<Figure size 350x262.5 with 1 Axes>"
      ]
     },
     "metadata": {},
     "output_type": "display_data"
    }
   ],
   "source": [
    "plt.plot(sfr['t'],sfr['mass'])\n",
    "plt.plot(massevo['t'],massevo['mass'])"
   ]
  },
  {
   "cell_type": "markdown",
   "metadata": {},
   "source": [
    "星系质量增长历史， 真实情况大概率位于两者中间"
   ]
  },
  {
   "cell_type": "code",
   "execution_count": 27,
   "metadata": {},
   "outputs": [
    {
     "data": {
      "text/plain": [
       "SimArray(5.67825842, 'Gyr')"
      ]
     },
     "execution_count": 27,
     "metadata": {},
     "output_type": "execute_result"
    }
   ],
   "source": [
    "sub.t_star(frac=0.5)"
   ]
  },
  {
   "cell_type": "markdown",
   "metadata": {},
   "source": [
    "质量增长到 一半时的时间，默认massmode = ‘now’"
   ]
  },
  {
   "cell_type": "code",
   "execution_count": 28,
   "metadata": {},
   "outputs": [
    {
     "data": {
      "text/plain": [
       "SimArray(5.60907269, 'Gyr')"
      ]
     },
     "execution_count": 28,
     "metadata": {},
     "output_type": "execute_result"
    }
   ],
   "source": [
    "sub.t_star(frac=0.5,massmode='birth')"
   ]
  },
  {
   "cell_type": "markdown",
   "metadata": {},
   "source": [
    "使用 恒星诞生时的质量计算。"
   ]
  },
  {
   "cell_type": "code",
   "execution_count": 29,
   "metadata": {},
   "outputs": [
    {
     "data": {
      "text/plain": [
       "SimArray(5.60351512e+10, 'Msol')"
      ]
     },
     "execution_count": 29,
     "metadata": {},
     "output_type": "execute_result"
    }
   ],
   "source": [
    "sub.star_t(10)"
   ]
  },
  {
   "cell_type": "markdown",
   "metadata": {},
   "source": [
    "计算给定时间 单位Gyr，星系的恒星质量"
   ]
  },
  {
   "cell_type": "markdown",
   "metadata": {},
   "source": [
    "### 星系的groupcatalog"
   ]
  },
  {
   "cell_type": "code",
   "execution_count": 33,
   "metadata": {},
   "outputs": [
    {
     "data": {
      "text/plain": [
       "dict_keys(['a', 'h', 'omegaM0', 'omegaL0', 'omegaB0', 'sigma8', 'ns', 'boxsize', 'Halos_total', 'Subhalos_total', 'filedir', 'Snapshot', 'run', 'eps', 'Mdm', 'baseunits', 'staunit', 'SubhaloID', 'SubhaloBHMass', 'SubhaloBHMdot', 'SubhaloBfldDisk', 'SubhaloBfldHalo', 'SubhaloCM', 'SubhaloFlag', 'SubhaloGasMetalFractions', 'SubhaloGasMetalFractionsHalfRad', 'SubhaloGasMetalFractionsMaxRad', 'SubhaloGasMetalFractionsSfr', 'SubhaloGasMetalFractionsSfrWeighted', 'SubhaloGasMetallicity', 'SubhaloGasMetallicityHalfRad', 'SubhaloGasMetallicityMaxRad', 'SubhaloGasMetallicitySfr', 'SubhaloGasMetallicitySfrWeighted', 'SubhaloGrNr', 'SubhaloHalfmassRad', 'SubhaloHalfmassRadType', 'SubhaloIDMostbound', 'SubhaloLen', 'SubhaloLenType', 'SubhaloMass', 'SubhaloMassInHalfRad', 'SubhaloMassInHalfRadType', 'SubhaloMassInMaxRad', 'SubhaloMassInMaxRadType', 'SubhaloMassInRad', 'SubhaloMassInRadType', 'SubhaloMassType', 'SubhaloParent', 'SubhaloPos', 'SubhaloSFR', 'SubhaloSFRinHalfRad', 'SubhaloSFRinMaxRad', 'SubhaloSFRinRad', 'SubhaloSpin', 'SubhaloStarMetalFractions', 'SubhaloStarMetalFractionsHalfRad', 'SubhaloStarMetalFractionsMaxRad', 'SubhaloStarMetallicity', 'SubhaloStarMetallicityHalfRad', 'SubhaloStarMetallicityMaxRad', 'SubhaloStellarPhotometrics', 'SubhaloStellarPhotometricsMassInRad', 'SubhaloStellarPhotometricsRad', 'SubhaloVel', 'SubhaloVelDisp', 'SubhaloVmax', 'SubhaloVmaxRad', 'SubhaloWindMass'])"
      ]
     },
     "execution_count": 33,
     "metadata": {},
     "output_type": "execute_result"
    }
   ],
   "source": [
    "sub.GC.keys()"
   ]
  },
  {
   "cell_type": "code",
   "execution_count": 34,
   "metadata": {},
   "outputs": [
    {
     "data": {
      "text/plain": [
       "SimArray(17.646923, dtype=float32, 'kpc')"
      ]
     },
     "execution_count": 34,
     "metadata": {},
     "output_type": "execute_result"
    }
   ],
   "source": [
    "sub.GC['SubhaloHalfmassRad']"
   ]
  },
  {
   "cell_type": "markdown",
   "metadata": {},
   "source": [
    "放在了sub.GC中 \\\n",
    "介绍见 https://www.tng-project.org/data/docs/specifications/#sec2b "
   ]
  },
  {
   "cell_type": "markdown",
   "metadata": {},
   "source": []
  }
 ],
 "metadata": {
  "kernelspec": {
   "display_name": "Python 3",
   "language": "python",
   "name": "python3"
  },
  "language_info": {
   "codemirror_mode": {
    "name": "ipython",
    "version": 3
   },
   "file_extension": ".py",
   "mimetype": "text/x-python",
   "name": "python",
   "nbconvert_exporter": "python",
   "pygments_lexer": "ipython3",
   "version": "3.8.10"
  }
 },
 "nbformat": 4,
 "nbformat_minor": 2
}
