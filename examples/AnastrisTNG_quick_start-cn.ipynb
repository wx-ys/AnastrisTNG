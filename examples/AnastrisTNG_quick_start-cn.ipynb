{
 "cells": [
  {
   "cell_type": "markdown",
   "metadata": {},
   "source": [
    "# AnastrisTNG 简单介绍"
   ]
  },
  {
   "cell_type": "code",
   "execution_count": 1,
   "metadata": {},
   "outputs": [],
   "source": [
    "from AnastrisTNG import TNGsimulation, TNGtools, Anatools  #导入模块\n",
    "import numpy as np\n",
    "import matplotlib.pyplot as plt"
   ]
  },
  {
   "cell_type": "code",
   "execution_count": 2,
   "metadata": {},
   "outputs": [],
   "source": [
    "run = 'TNG50'\n",
    "BasePath = '/home/dumin/IllustrisTNG/' + run + '-1/output/'         #模拟数据所在位置\n",
    "snap=99                                                             #需要分析的快照序号"
   ]
  },
  {
   "cell_type": "code",
   "execution_count": 3,
   "metadata": {},
   "outputs": [],
   "source": [
    "Snapshot=TNGsimulation.Snapshot(BasePath,snap)                     #初始化Snapshot"
   ]
  },
  {
   "cell_type": "code",
   "execution_count": 4,
   "metadata": {},
   "outputs": [
    {
     "name": "stdout",
     "output_type": "stream",
     "text": [
      "<Snapshot \"TNG50-1_snapshot99\" len=0>\n"
     ]
    }
   ],
   "source": [
    "print(Snapshot)   # len = 0, 即 没有粒子载入"
   ]
  },
  {
   "cell_type": "code",
   "execution_count": 5,
   "metadata": {},
   "outputs": [
    {
     "data": {
      "text/plain": [
       "{'a': 0.9999999999999998,\n",
       " 'h': 0.6774,\n",
       " 'omegaM0': 0.3089,\n",
       " 'omegaL0': 0.6911,\n",
       " 'omegaB0': 0.0486,\n",
       " 'sigma8': 0.8159,\n",
       " 'ns': 0.9667,\n",
       " 'boxsize': SimArray(1., '3.50e+04 kpc a h**-1'),\n",
       " 'Halos_total': 10247012,\n",
       " 'Subhalos_total': 5688113,\n",
       " 'filedir': '/home/dumin/IllustrisTNG/TNG50-1/output/',\n",
       " 'Snapshot': 99,\n",
       " 'run': 'TNG50-1',\n",
       " 'eps': SimArray(0.195, 'kpc h**-1'),\n",
       " 'Mdm': SimArray(3.1e-05, '1.00e+10 Msol h**-1'),\n",
       " 'baseunits': [Unit(\"kpc\"), Unit(\"km s**-1\"), Unit(\"Msol\")],\n",
       " 'staunit': ['nH',\n",
       "  'Halpha',\n",
       "  'em',\n",
       "  'ne',\n",
       "  'temp',\n",
       "  'mu',\n",
       "  'c_n_sq',\n",
       "  'p',\n",
       "  'cs',\n",
       "  'c_s',\n",
       "  'acc',\n",
       "  'phi',\n",
       "  'age',\n",
       "  'tform',\n",
       "  'SubhaloPos',\n",
       "  'sfr']}"
      ]
     },
     "execution_count": 5,
     "metadata": {},
     "output_type": "execute_result"
    }
   ],
   "source": [
    "Snapshot.properties               #Simdict，字典，保存所有关于该snapshort的信息"
   ]
  },
  {
   "cell_type": "markdown",
   "metadata": {},
   "source": [
    "a为尺度因子；h，omegaM0，omegaL0，omegaB0，sigma8，ns 为模拟所用的宇宙学参数；boxsize为模拟盒子的大小；Halos_total 为该snapshot中halo的总数；Subhalos_total 为subhalo的总数；filedir 为文件所在位置；run 为具体什么模拟； Snapshot 为snapshot序号；eps 为引力软化尺度；Mdm 为单个暗物质粒子质量；baseunits 当转化为基本物理单位后 采用的单位制。"
   ]
  },
  {
   "cell_type": "code",
   "execution_count": 6,
   "metadata": {},
   "outputs": [
    {
     "data": {
      "text/plain": [
       "{'h': 0.6774,\n",
       " 'omegaM0': 0.3089,\n",
       " 'omegaL0': 0.6911,\n",
       " 'omegaB0': 0.0486,\n",
       " 'sigma8': 0.8159,\n",
       " 'ns': 0.9667}"
      ]
     },
     "execution_count": 6,
     "metadata": {},
     "output_type": "execute_result"
    }
   ],
   "source": [
    "Snapshot.cosmology           #直接获取宇宙学参数"
   ]
  },
  {
   "cell_type": "code",
   "execution_count": 7,
   "metadata": {},
   "outputs": [
    {
     "data": {
      "text/plain": [
       "SimArray(1., '3.50e+04 kpc a h**-1')"
      ]
     },
     "execution_count": 7,
     "metadata": {},
     "output_type": "execute_result"
    }
   ],
   "source": [
    "Snapshot.boxsize              #获取boxsize    #所有properties中的key 都可以 以attribute的形式获取"
   ]
  },
  {
   "cell_type": "code",
   "execution_count": 8,
   "metadata": {},
   "outputs": [
    {
     "name": "stdout",
     "output_type": "stream",
     "text": [
      "尺度因子: 0.9999999999999998\n",
      "宇宙时间: 1.38e+01 Gyr\n",
      "回顾时间: 4.60e-15 Gyr\n",
      "红移: 2.220446049250313e-16\n"
     ]
    }
   ],
   "source": [
    "print('尺度因子:',Snapshot.a)\n",
    "print('宇宙时间:',Snapshot.t)\n",
    "print('回顾时间:',Snapshot.tLB)\n",
    "print('红移:',Snapshot.z)             "
   ]
  },
  {
   "cell_type": "code",
   "execution_count": 9,
   "metadata": {},
   "outputs": [
    {
     "data": {
      "text/plain": [
       "Unit(\"5.48e+02 km**2 G**-1 s**-2 Mpc**-2\")"
      ]
     },
     "execution_count": 9,
     "metadata": {},
     "output_type": "execute_result"
    }
   ],
   "source": [
    "Snapshot.rho_crit       #当前时刻的宇宙学临界密度"
   ]
  },
  {
   "cell_type": "code",
   "execution_count": 10,
   "metadata": {},
   "outputs": [
    {
     "name": "stdout",
     "output_type": "stream",
     "text": [
      "可以载入的属性： dict_keys(['groupcatalogs', 'snapshots'])\n",
      "groupcatalogs:  dict_keys(['halo', 'subhalo'])\n",
      "snapshots:  dict_keys(['gas', 'star', 'dm', 'bh'])\n"
     ]
    }
   ],
   "source": [
    "print('可以载入的属性：',Snapshot.loadable_parameters.keys())  #查看可以载入的属性，groupcatalogs和snapshots\n",
    "print('groupcatalogs: ',Snapshot.loadable_parameters['groupcatalogs'].keys())\n",
    "print('snapshots: ',Snapshot.loadable_parameters['snapshots'].keys())"
   ]
  },
  {
   "cell_type": "markdown",
   "metadata": {},
   "source": [
    "### 载入粒子"
   ]
  },
  {
   "cell_type": "code",
   "execution_count": 11,
   "metadata": {},
   "outputs": [
    {
     "data": {
      "text/plain": [
       "{'particle_field': 'dm,star,gas,bh',\n",
       " 'Basefields': ['Coordinates', 'Velocities', 'Masses', 'ParticleIDs'],\n",
       " 'star_fields': [],\n",
       " 'gas_fields': [],\n",
       " 'dm_fields': [],\n",
       " 'bh_fields': []}"
      ]
     },
     "execution_count": 11,
     "metadata": {},
     "output_type": "execute_result"
    }
   ],
   "source": [
    "Snapshot.load_particle_para       #字典，查看导入粒子的 设置，"
   ]
  },
  {
   "cell_type": "markdown",
   "metadata": {},
   "source": [
    "particle_field 为载入粒子类型，一共这四种类型：暗物质粒子，恒星粒子，气体粒子，黑洞粒子。默认四个都载入。\\\n",
    "Basefields 为基本属性，即所有类型粒子都需导入的属性。\\\n",
    "star_fields，gas_fields... 为特定类型粒子的特殊属性。\\\n",
    "关于 粒子属性 更详细介绍 查看； https://www.tng-project.org/data/docs/specifications/#sec1b"
   ]
  },
  {
   "cell_type": "code",
   "execution_count": 12,
   "metadata": {},
   "outputs": [
    {
     "name": "stdout",
     "output_type": "stream",
     "text": [
      "可以载入的气体粒子属性： dict_keys(['CenterOfMass', 'Coordinates', 'Density', 'ElectronAbundance', 'EnergyDissipation', 'GFM_AGNRadiation', 'GFM_CoolingRate', 'GFM_Metallicity', 'GFM_Metals', 'GFM_MetalsTagged', 'GFM_WindDMVelDisp', 'GFM_WindHostHaloMass', 'InternalEnergy', 'InternalEnergyOld', 'Machnumber', 'MagneticField', 'MagneticFieldDivergence', 'Masses', 'NeutralHydrogenAbundance', 'ParticleIDs', 'Potential', 'StarFormationRate', 'SubfindDMDensity', 'SubfindDensity', 'SubfindHsml', 'SubfindVelDisp', 'Velocities'])\n"
     ]
    }
   ],
   "source": [
    "print('可以载入的气体粒子属性：',str(Snapshot.loadable_parameters['snapshots']['gas'].keys()))"
   ]
  },
  {
   "cell_type": "code",
   "execution_count": 13,
   "metadata": {},
   "outputs": [
    {
     "name": "stdout",
     "output_type": "stream",
     "text": [
      "可以载入的恒星粒子属性： dict_keys(['BirthPos', 'BirthVel', 'Coordinates', 'GFM_InitialMass', 'GFM_Metallicity', 'GFM_Metals', 'GFM_MetalsTagged', 'GFM_StellarFormationTime', 'GFM_StellarPhotometrics', 'Masses', 'ParticleIDs', 'Potential', 'StellarHsml', 'SubfindDMDensity', 'SubfindDensity', 'SubfindHsml', 'SubfindVelDisp', 'Velocities'])\n"
     ]
    }
   ],
   "source": [
    "print('可以载入的恒星粒子属性：',(str(Snapshot.loadable_parameters['snapshots']['star'].keys())))"
   ]
  },
  {
   "cell_type": "code",
   "execution_count": 14,
   "metadata": {},
   "outputs": [
    {
     "name": "stdout",
     "output_type": "stream",
     "text": [
      "Fractional electron number density with respect to the total hydrogen number density, so ne=ElectronAbundance*nH where nH=XH*rho/mp. Use with caution for star-forming gas (see comment below for NeutralHydrogenAbundance).\n"
     ]
    }
   ],
   "source": [
    "#查看气体粒子的ElectronAbundance的描述\n",
    "print((Snapshot.loadable_parameters['snapshots']['gas']['ElectronAbundance']))"
   ]
  },
  {
   "cell_type": "code",
   "execution_count": 15,
   "metadata": {},
   "outputs": [
    {
     "name": "stdout",
     "output_type": "stream",
     "text": [
      "The exact time (given as the scalefactor) when this star was formed. Note: The only differentiation between a real star (>0) and a wind phase gas cell (<=0) is the sign of this quantity.\n"
     ]
    }
   ],
   "source": [
    "#查看，恒星粒子的GFM_StellarFormationTime的描述\n",
    "print((Snapshot.parameter_describe('snapshots','star','GFM_StellarFormationTime')))"
   ]
  },
  {
   "cell_type": "code",
   "execution_count": 16,
   "metadata": {},
   "outputs": [],
   "source": [
    "#设置 额外导入恒星粒子 的一些属性\n",
    "Snapshot.load_particle_para['star_fields']=[\n",
    "    'GFM_StellarFormationTime','GFM_StellarPhotometrics','BirthPos']\n",
    "#设置 额外载入气体粒子 的一些属性\n",
    "Snapshot.load_particle_para['gas_fields']=['GFM_Metals','ElectronAbundance','InternalEnergy','Density'] "
   ]
  },
  {
   "cell_type": "code",
   "execution_count": 17,
   "metadata": {},
   "outputs": [
    {
     "data": {
      "text/plain": [
       "{'particle_field': 'dm,star,gas,bh',\n",
       " 'Basefields': ['Coordinates', 'Velocities', 'Masses', 'ParticleIDs'],\n",
       " 'star_fields': ['GFM_StellarFormationTime',\n",
       "  'GFM_StellarPhotometrics',\n",
       "  'BirthPos'],\n",
       " 'gas_fields': ['GFM_Metals',\n",
       "  'ElectronAbundance',\n",
       "  'InternalEnergy',\n",
       "  'Density'],\n",
       " 'dm_fields': [],\n",
       " 'bh_fields': []}"
      ]
     },
     "execution_count": 17,
     "metadata": {},
     "output_type": "execute_result"
    }
   ],
   "source": [
    "Snapshot.load_particle_para          "
   ]
  },
  {
   "cell_type": "code",
   "execution_count": 18,
   "metadata": {},
   "outputs": [],
   "source": [
    "Snapshot.load_halo(400)   #导入该snapshot下id为400的halo\n",
    "# 使用Snapshot.load_subhalo() 导入subhalo，\n",
    "# 在未改变坐标前，可以多次载入粒子，\n",
    "# 改变坐标或计算引力后，载入粒子功能被锁定，不能再载入粒子"
   ]
  },
  {
   "cell_type": "code",
   "execution_count": 19,
   "metadata": {},
   "outputs": [
    {
     "data": {
      "text/plain": [
       "<SimSnap \"TNG50-1_snapshot99::star\" len=473612>"
      ]
     },
     "execution_count": 19,
     "metadata": {},
     "output_type": "execute_result"
    }
   ],
   "source": [
    "Snapshot.s    #整个snap已载入的恒星粒子"
   ]
  },
  {
   "cell_type": "code",
   "execution_count": 20,
   "metadata": {},
   "outputs": [
    {
     "data": {
      "text/plain": [
       "['GFM_StellarPhotometrics',\n",
       " 'vy',\n",
       " 'SubhaloID',\n",
       " 'y',\n",
       " 'z',\n",
       " 'pos',\n",
       " 'x',\n",
       " 'HaloID',\n",
       " 'iord',\n",
       " 'aform',\n",
       " 'mass',\n",
       " 'BirthPos',\n",
       " 'vz',\n",
       " 'vx',\n",
       " 'BirthPos_y',\n",
       " 'vel',\n",
       " 'BirthPos_x',\n",
       " 'BirthPos_z']"
      ]
     },
     "execution_count": 20,
     "metadata": {},
     "output_type": "execute_result"
    }
   ],
   "source": [
    "Snapshot.s.keys()"
   ]
  },
  {
   "cell_type": "code",
   "execution_count": 21,
   "metadata": {},
   "outputs": [],
   "source": [
    "Snapshot.load_subhalo(549516)"
   ]
  },
  {
   "cell_type": "code",
   "execution_count": 22,
   "metadata": {},
   "outputs": [
    {
     "data": {
      "text/plain": [
       "<SimSnap \"TNG50-1_snapshot99:Subhalo_549516::star\" len=691113>"
      ]
     },
     "execution_count": 22,
     "metadata": {},
     "output_type": "execute_result"
    }
   ],
   "source": [
    "Snapshot.subhalos[549516].s    #该subhalo 的恒星"
   ]
  },
  {
   "cell_type": "code",
   "execution_count": 23,
   "metadata": {},
   "outputs": [
    {
     "data": {
      "text/plain": [
       "SimArray([4.19749813e-06, 3.74249703e-06, 4.18186346e-06, ...,\n",
       "          4.47807588e-06, 2.42827514e-06, 7.66162611e-06], '1.00e+10 Msol h**-1')"
      ]
     },
     "execution_count": 23,
     "metadata": {},
     "output_type": "execute_result"
    }
   ],
   "source": [
    "Snapshot.subhalos[549516].s['mass']"
   ]
  },
  {
   "cell_type": "code",
   "execution_count": 24,
   "metadata": {},
   "outputs": [],
   "source": [
    "Snapshot.subhalos[549516].physical_units()   #物理单位"
   ]
  },
  {
   "cell_type": "code",
   "execution_count": 25,
   "metadata": {},
   "outputs": [
    {
     "data": {
      "text/plain": [
       "SimArray([159340.71936777, 116680.83950072, 107909.88822252, ...,\n",
       "          106162.13182961,  70180.66054814,  61296.05599787], 'Msol')"
      ]
     },
     "execution_count": 25,
     "metadata": {},
     "output_type": "execute_result"
    }
   ],
   "source": [
    "Snapshot.subhalos[549516].g['mass']\n",
    "\n",
    "#注意 所有载入该snapshot的粒子，都在统一的坐标系统下处理"
   ]
  },
  {
   "cell_type": "code",
   "execution_count": null,
   "metadata": {},
   "outputs": [],
   "source": [
    "sub10=Snapshot.load_particle(10)  # 默认载入subhalo，如果为halo 需要传入关键字 groupType= 'Halo'\n",
    "# 载出 ID为10的subhalo，不会载入到snapshot中，\n",
    "# 对于TNG-Cluster 支持 groupType= 'Zoom'，"
   ]
  },
  {
   "cell_type": "code",
   "execution_count": 27,
   "metadata": {},
   "outputs": [
    {
     "data": {
      "text/plain": [
       "<Subhalo \"TNG50-1_snapshot99_Subhalo_10\" SubhaloID=10>"
      ]
     },
     "execution_count": 27,
     "metadata": {},
     "output_type": "execute_result"
    }
   ],
   "source": [
    "sub10"
   ]
  },
  {
   "cell_type": "code",
   "execution_count": 32,
   "metadata": {},
   "outputs": [
    {
     "data": {
      "text/plain": [
       "['vy',\n",
       " 'SubhaloID',\n",
       " 'y',\n",
       " 'z',\n",
       " 'pos',\n",
       " 'x',\n",
       " 'HaloID',\n",
       " 'iord',\n",
       " 'mass',\n",
       " 'vz',\n",
       " 'vx',\n",
       " 'vel']"
      ]
     },
     "execution_count": 32,
     "metadata": {},
     "output_type": "execute_result"
    }
   ],
   "source": [
    "sub10.bh.keys()"
   ]
  },
  {
   "cell_type": "code",
   "execution_count": 22,
   "metadata": {},
   "outputs": [],
   "source": [
    "## 使用多进程匹配tracerIDs， 4进程 时间花费十几分钟，内存需要<~7G\n",
    "#Traceparticle=TNGtools.findtracer_MP(\n",
    "    # Snapshot.properties['filedir'],99,Snapshot.subhalos['549516'].PT.s['iord'],NP=4)\n",
    "\n",
    "## 单进程匹配tracerIDs，时间花费~40分钟，内存需要<~2G\n",
    "#Traceparticle=TNGtools.findtracer_MP(\n",
    "    # Snapshot.properties['filedir'],99,Snapshot.subhalos['549516'].PT.s['iord'])"
   ]
  },
  {
   "cell_type": "code",
   "execution_count": 23,
   "metadata": {},
   "outputs": [],
   "source": [
    "#查询星系的并合历史\n",
    "merger_require_fields=['SubhaloPos','SubhaloMassType']\n",
    "min_massratio=0.1\n",
    "merger_h=TNGsimulation.merger_history(\n",
    "    Snapshot.properties['filedir'],99,549516,fields=merger_require_fields,minMassRatio=min_massratio)"
   ]
  },
  {
   "cell_type": "code",
   "execution_count": 25,
   "metadata": {},
   "outputs": [
    {
     "name": "stdout",
     "output_type": "stream",
     "text": [
      "['MergerEvents', 'MassRatio', 'First-SubhaloPos', 'Next-SubhaloPos', 'First-SubhaloMassType', 'Next-SubhaloMassType', 'numMergers']\n"
     ]
    }
   ],
   "source": [
    "print(list(merger_h.keys()))"
   ]
  },
  {
   "cell_type": "code",
   "execution_count": 26,
   "metadata": {},
   "outputs": [
    {
     "data": {
      "text/plain": [
       "[SimArray([16906.38 ,  8993.423, 13470.431], dtype=float32, 'kpc'),\n",
       " SimArray([3902.126, 2017.054, 3151.785], dtype=float32, 'kpc'),\n",
       " SimArray([3051.3003, 1567.3752, 2467.7275], dtype=float32, 'kpc'),\n",
       " SimArray([3051.3003, 1567.3752, 2467.7275], dtype=float32, 'kpc')]"
      ]
     },
     "execution_count": 26,
     "metadata": {},
     "output_type": "execute_result"
    }
   ],
   "source": [
    "# 与MassRatio 和SnapNum 的index相对应\n",
    "merger_h['First-SubhaloPos']"
   ]
  },
  {
   "cell_type": "code",
   "execution_count": 31,
   "metadata": {},
   "outputs": [],
   "source": [
    "#查询星系的演化历史\n",
    "evo_require_fields=['SubhaloPos','SubhaloMassType','SubhaloSFR']\n",
    "evo_h=TNGsimulation.galaxy_evolution(\n",
    "    Snapshot.properties['filedir'],99,549516,fields=evo_require_fields)"
   ]
  },
  {
   "cell_type": "code",
   "execution_count": 32,
   "metadata": {},
   "outputs": [
    {
     "data": {
      "text/plain": [
       "SimArray([3.9889784e+00, 3.4957864e+00, 3.5073688e+00, 3.5457451e+00,\n",
       "          4.3617549e+00, 4.6761918e+00, 5.3235936e+00, 5.0113964e+00,\n",
       "          5.2727051e+00, 5.6502700e+00, 5.1161175e+00, 5.2896161e+00,\n",
       "          5.0907879e+00, 3.8918951e+00, 3.7160950e+00, 4.4908547e+00,\n",
       "          5.1198993e+00, 6.2067761e+00, 6.2812562e+00, 5.9627752e+00,\n",
       "          6.8523912e+00, 5.8605933e+00, 4.9921360e+00, 4.7386498e+00,\n",
       "          5.4448686e+00, 5.2927856e+00, 5.2197185e+00, 4.5819983e+00,\n",
       "          4.7386193e+00, 4.1795831e+00, 4.0303149e+00, 3.9073701e+00,\n",
       "          5.2362466e+00, 4.3555717e+00, 3.8110013e+00, 3.9635782e+00,\n",
       "          3.8844423e+00, 4.3330188e+00, 6.6063643e+00, 9.0028410e+00,\n",
       "          7.1706181e+00, 5.7971177e+00, 4.2302632e+00, 3.8681424e+00,\n",
       "          3.7638419e+00, 5.4098053e+00, 7.9069738e+00, 8.7179346e+00,\n",
       "          7.9329586e+00, 6.3881173e+00, 6.2105169e+00, 5.1204367e+00,\n",
       "          5.4738622e+00, 7.1349149e+00, 5.2036991e+00, 4.9480271e+00,\n",
       "          3.1808419e+00, 2.6249661e+00, 2.1242085e+00, 1.2695675e+00,\n",
       "          1.1923770e+00, 2.4701111e+00, 2.5079596e+00, 2.5013709e+00,\n",
       "          2.3283436e+00, 1.5831641e+00, 2.2235258e+00, 1.6909657e+00,\n",
       "          1.7995691e+00, 1.1332442e+00, 9.4405788e-01, 8.7067950e-01,\n",
       "          8.7069327e-01, 5.6400281e-01, 5.6294817e-01, 9.5987689e-01,\n",
       "          6.2904990e-01, 8.1017005e-01, 4.2355600e-01, 3.9946747e-01,\n",
       "          3.9201662e-01, 2.5716957e-01, 2.0175664e-01, 2.3071288e-01,\n",
       "          1.8699747e-01, 1.3334288e-01, 1.7662582e-01, 8.5281610e-02,\n",
       "          1.0219669e-01, 7.2607368e-02, 3.0746087e-02, 8.6338110e-03,\n",
       "          4.0387483e-03, 8.4341653e-03, 6.3061775e-03, 2.6676801e-03,\n",
       "          1.9567299e-03, 1.8740391e-03, 8.5536583e-04], dtype=float32, 'Msol yr**-1')"
      ]
     },
     "execution_count": 32,
     "metadata": {},
     "output_type": "execute_result"
    }
   ],
   "source": [
    "#与SnapNum 相对应\n",
    "evo_h['SubhaloSFR']"
   ]
  },
  {
   "cell_type": "code",
   "execution_count": 27,
   "metadata": {},
   "outputs": [
    {
     "data": {
      "text/plain": [
       "SimArray([    -1,     -1,     -1, ..., 549516,     -1, 549516],\n",
       "         dtype=int32)"
      ]
     },
     "execution_count": 27,
     "metadata": {},
     "output_type": "execute_result"
    }
   ],
   "source": [
    "Snapshot['SubhaloID']        #粒子所属的SubhaloID，如果为-1 则为没有激活subhalo"
   ]
  },
  {
   "cell_type": "code",
   "execution_count": 28,
   "metadata": {},
   "outputs": [
    {
     "data": {
      "text/plain": [
       "SimArray([400, 400, 400, ..., 249, 400, 249], dtype=int32)"
      ]
     },
     "execution_count": 28,
     "metadata": {},
     "output_type": "execute_result"
    }
   ],
   "source": [
    "Snapshot['HaloID']        #HaloID 已有"
   ]
  },
  {
   "cell_type": "code",
   "execution_count": 33,
   "metadata": {},
   "outputs": [],
   "source": [
    "Snapshot.load_GC()    #导入group cata"
   ]
  },
  {
   "cell_type": "code",
   "execution_count": 34,
   "metadata": {},
   "outputs": [
    {
     "data": {
      "text/plain": [
       "array([400])"
      ]
     },
     "execution_count": 34,
     "metadata": {},
     "output_type": "execute_result"
    }
   ],
   "source": [
    "Snapshot.GC_loaded_Halo  # 该halo 已导入group catalo"
   ]
  },
  {
   "cell_type": "code",
   "execution_count": 37,
   "metadata": {},
   "outputs": [
    {
     "data": {
      "text/plain": [
       "SimArray([ 6260.91732938, 24152.90859663, 18309.46831678], 'a kpc h**-1')"
      ]
     },
     "execution_count": 37,
     "metadata": {},
     "output_type": "execute_result"
    }
   ],
   "source": [
    "Snapshot.halos[400].center(mode='ssc')   # 中心坐标  默认 方法使用 shrink sphere center  "
   ]
  },
  {
   "cell_type": "code",
   "execution_count": 38,
   "metadata": {},
   "outputs": [
    {
     "data": {
      "text/plain": [
       "SimArray([ 6260.50863816, 24153.73984727, 18311.79302046], 'a kpc h**-1')"
      ]
     },
     "execution_count": 38,
     "metadata": {},
     "output_type": "execute_result"
    }
   ],
   "source": [
    "Snapshot.halos[400].center(mode='com')  #质心"
   ]
  },
  {
   "cell_type": "code",
   "execution_count": 39,
   "metadata": {},
   "outputs": [
    {
     "data": {
      "text/plain": [
       "SimArray([ 6260.51 , 24153.738, 18311.791], dtype=float32, 'a kpc h**-1')"
      ]
     },
     "execution_count": 39,
     "metadata": {},
     "output_type": "execute_result"
    }
   ],
   "source": [
    "Snapshot.halos[400].GC['GroupCM']   # group catalog 给的质心坐标"
   ]
  },
  {
   "cell_type": "code",
   "execution_count": 40,
   "metadata": {},
   "outputs": [
    {
     "data": {
      "text/plain": [
       "SimArray([ 6260.937, 24152.902, 18309.434], dtype=float32, 'a kpc h**-1')"
      ]
     },
     "execution_count": 40,
     "metadata": {},
     "output_type": "execute_result"
    }
   ],
   "source": [
    "Snapshot.halos[400].GC['GroupPos']   # group catalog 给的 引力势最低点"
   ]
  },
  {
   "cell_type": "code",
   "execution_count": 45,
   "metadata": {},
   "outputs": [
    {
     "data": {
      "text/plain": [
       "SimArray(116.18854062, 'a kpc h**-1')"
      ]
     },
     "execution_count": 45,
     "metadata": {},
     "output_type": "execute_result"
    }
   ],
   "source": [
    "cen_halo400=Snapshot.halos[400].center(mode='ssc')\n",
    "#计算两百倍临界密度半径\n",
    "Snapshot.halos[400].R_vir(cen=cen_halo400,overden=200) "
   ]
  },
  {
   "cell_type": "code",
   "execution_count": 46,
   "metadata": {},
   "outputs": [
    {
     "data": {
      "text/plain": [
       "SimArray(116.34011, dtype=float32, 'a kpc h**-1')"
      ]
     },
     "execution_count": 46,
     "metadata": {},
     "output_type": "execute_result"
    }
   ],
   "source": [
    "#计算与官网一致\n",
    "Snapshot.halos[400].GC['Group_R_Crit200']  "
   ]
  },
  {
   "cell_type": "code",
   "execution_count": 47,
   "metadata": {},
   "outputs": [
    {
     "data": {
      "text/plain": [
       "SimArray(81.4551209, 'a kpc h**-1')"
      ]
     },
     "execution_count": 47,
     "metadata": {},
     "output_type": "execute_result"
    }
   ],
   "source": [
    "#计算五百倍临界密度半径\n",
    "Snapshot.halos[400].R_vir(cen=cen_halo400,overden=500) "
   ]
  },
  {
   "cell_type": "code",
   "execution_count": 48,
   "metadata": {},
   "outputs": [
    {
     "data": {
      "text/plain": [
       "SimArray(81.223, dtype=float32, 'a kpc h**-1')"
      ]
     },
     "execution_count": 48,
     "metadata": {},
     "output_type": "execute_result"
    }
   ],
   "source": [
    "#计算与官网一致\n",
    "Snapshot.halos[400].GC['Group_R_Crit500']"
   ]
  },
  {
   "cell_type": "code",
   "execution_count": 49,
   "metadata": {},
   "outputs": [
    {
     "data": {
      "text/plain": [
       "array([549516, 590792, 590793, 590794, 590795, 590796, 590797, 590798,\n",
       "       590799, 590800, 590801, 590802, 590803, 590804, 590805, 590806,\n",
       "       590807, 590808, 590809, 590810, 590811, 590812, 590813, 590814,\n",
       "       590815, 590816, 590817, 590818, 590819, 590820, 590821, 590822,\n",
       "       590823, 590824, 590825, 590826, 590827, 590828, 590829, 590830,\n",
       "       590831, 590832, 590833, 590834, 590835, 590836, 590837, 590838,\n",
       "       590839, 590840, 590841, 590842, 590843, 590844, 590845, 590846,\n",
       "       590847, 590848, 590849, 590850, 590851, 590852, 590853, 590854,\n",
       "       590855, 590856, 590857, 590858, 590859, 590860, 590861, 590862,\n",
       "       590863, 590864, 590865, 590866, 590867, 590868, 590869, 590870,\n",
       "       590871, 590872, 590873, 590874, 590875, 590876, 590877, 590878,\n",
       "       590879, 590880, 590881, 590882, 590883, 590884, 590885, 590886,\n",
       "       590887, 590888, 590889, 590890, 590891, 590892, 590893, 590894,\n",
       "       590895, 590896, 590897, 590898, 590899, 590900, 590901, 590902,\n",
       "       590903, 590904, 590905, 590906, 590907, 590908, 590909, 590910,\n",
       "       590911, 590912, 590913, 590914, 590915, 590916, 590917, 590918,\n",
       "       590919, 590920, 590921, 590922, 590923, 590924, 590925])"
      ]
     },
     "execution_count": 49,
     "metadata": {},
     "output_type": "execute_result"
    }
   ],
   "source": [
    "Snapshot.PT_loaded_Subhalo   #已导入粒子的subhalo  ，可以直接唤醒，并给粒子分配subhaloID\n",
    "# Snapshot.subhalos[Snapshot.PT_loaded_Subhalo]   此方法为所有已经载入粒子的Subhalo匹配粒子  10^6 ~ 20s \n",
    "# 该halo中的第一个编号subhalo 即为中心星系"
   ]
  },
  {
   "cell_type": "code",
   "execution_count": 50,
   "metadata": {},
   "outputs": [
    {
     "data": {
      "text/plain": [
       "<Subhalo \"TNG50-1_snapshot99\" SubhaloID=590792>"
      ]
     },
     "execution_count": 50,
     "metadata": {},
     "output_type": "execute_result"
    }
   ],
   "source": [
    "Snapshot.subhalos[590792]   #激活"
   ]
  },
  {
   "cell_type": "code",
   "execution_count": 54,
   "metadata": {},
   "outputs": [
    {
     "name": "stdout",
     "output_type": "stream",
     "text": [
      "[590792 590792 590792 ...     -1     -1 590792]\n"
     ]
    }
   ],
   "source": [
    "print(Snapshot['SubhaloID'])      \n",
    "#已匹配SubhaloID，此时若为-1 则表明不在任何Subhalo中或未激活\n",
    "# Snapshot.subhalos[Snapshot.PT_loaded_Subhalo]   使用此语句则全部激活"
   ]
  },
  {
   "cell_type": "code",
   "execution_count": 55,
   "metadata": {},
   "outputs": [
    {
     "data": {
      "text/plain": [
       "'locked'"
      ]
     },
     "execution_count": 55,
     "metadata": {},
     "output_type": "execute_result"
    }
   ],
   "source": [
    "Snapshot.status_loadPT       \n",
    "#这里查看能否继续load粒子，若已经改变了已载入粒子的坐标等，则不能再load粒子"
   ]
  }
 ],
 "metadata": {
  "kernelspec": {
   "display_name": "Python 3",
   "language": "python",
   "name": "python3"
  },
  "language_info": {
   "codemirror_mode": {
    "name": "ipython",
    "version": 3
   },
   "file_extension": ".py",
   "mimetype": "text/x-python",
   "name": "python",
   "nbconvert_exporter": "python",
   "pygments_lexer": "ipython3",
   "version": "3.8.10"
  }
 },
 "nbformat": 4,
 "nbformat_minor": 2
}
